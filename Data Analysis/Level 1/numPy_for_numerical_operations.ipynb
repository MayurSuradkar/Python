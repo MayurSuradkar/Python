{
  "cells": [
    {
      "cell_type": "markdown",
      "metadata": {
        "id": "view-in-github",
        "colab_type": "text"
      },
      "source": [
        "<a href=\"https://colab.research.google.com/github/Tanu-N-Prabhu/Python/blob/master/Data%20Analysis/Level%201/numPy_for_numerical_operations.ipynb\" target=\"_parent\"><img src=\"https://colab.research.google.com/assets/colab-badge.svg\" alt=\"Open In Colab\"/></a>"
      ]
    },
    {
      "cell_type": "markdown",
      "source": [
        "# NumPy for Numerical Operations\n",
        "\n",
        "NumPy is the foundation of numerical computing in Python. It enables fast and efficient operations on large arrays and matrices. This guide will walk you through key operations in NumPy for data analysis.\n",
        "\n",
        "---\n",
        "\n",
        "## 1. Installing NumPy\n",
        "\n",
        "To install NumPy, run:\n",
        "\n",
        "\n"
      ],
      "metadata": {
        "id": "pPs5v5nM7pUJ"
      },
      "id": "pPs5v5nM7pUJ"
    },
    {
      "cell_type": "code",
      "source": [
        "!pip install numpy"
      ],
      "metadata": {
        "colab": {
          "base_uri": "https://localhost:8080/"
        },
        "id": "9vXEjuXz7wNr",
        "outputId": "96ba164a-6379-49b4-c58e-37f3cecafcdf"
      },
      "id": "9vXEjuXz7wNr",
      "execution_count": 1,
      "outputs": [
        {
          "output_type": "stream",
          "name": "stdout",
          "text": [
            "Requirement already satisfied: numpy in /usr/local/lib/python3.11/dist-packages (2.0.2)\n"
          ]
        }
      ]
    },
    {
      "cell_type": "markdown",
      "source": [
        "## 2. Creating and Manipulating Arrays\n",
        "NumPy arrays are more powerful than Python lists for numerical data."
      ],
      "metadata": {
        "id": "qaXL1mxl90Ab"
      },
      "id": "qaXL1mxl90Ab"
    },
    {
      "cell_type": "code",
      "source": [
        "import numpy as np\n",
        "\n",
        "# Creating arrays\n",
        "a = np.array([1, 2, 3])\n",
        "b = np.array([[1, 2], [3, 4]])\n",
        "\n",
        "# Array of zeros or ones\n",
        "zeros = np.zeros((2, 3))\n",
        "ones = np.ones((3, 2))\n",
        "\n",
        "# Range of numbers\n",
        "ar = np.arange(0, 10, 2)   # [0, 2, 4, 6, 8]\n",
        "lin = np.linspace(0, 1, 5) # 5 points between 0 and 1"
      ],
      "metadata": {
        "id": "-ijxFFVV93Gk"
      },
      "id": "-ijxFFVV93Gk",
      "execution_count": 2,
      "outputs": []
    },
    {
      "cell_type": "code",
      "source": [
        "print(a)\n",
        "print(b)\n",
        "print(zeros)\n",
        "print(ones)\n",
        "print(ar)\n",
        "print(lin)"
      ],
      "metadata": {
        "colab": {
          "base_uri": "https://localhost:8080/"
        },
        "id": "E0vfPx9f-LWE",
        "outputId": "6bc5ba6c-8563-4627-ae35-07dcb0f4545c"
      },
      "id": "E0vfPx9f-LWE",
      "execution_count": 3,
      "outputs": [
        {
          "output_type": "stream",
          "name": "stdout",
          "text": [
            "[1 2 3]\n",
            "[[1 2]\n",
            " [3 4]]\n",
            "[[0. 0. 0.]\n",
            " [0. 0. 0.]]\n",
            "[[1. 1.]\n",
            " [1. 1.]\n",
            " [1. 1.]]\n",
            "[0 2 4 6 8]\n",
            "[0.   0.25 0.5  0.75 1.  ]\n"
          ]
        }
      ]
    },
    {
      "cell_type": "markdown",
      "source": [
        "## 3. Indexing, Slicing, and Reshaping\n",
        "\n",
        "### Indexing and Slicing"
      ],
      "metadata": {
        "id": "NcjJrXoW-nXC"
      },
      "id": "NcjJrXoW-nXC"
    },
    {
      "cell_type": "code",
      "source": [
        "arr = np.array([[10, 20, 30], [40, 50, 60]])\n",
        "print(arr[0, 1])  # 20\n",
        "print(arr[:, 1])  # column 1 -> [20, 50]\n",
        "print(arr[1, :])  # row 1 -> [40, 50, 60]"
      ],
      "metadata": {
        "colab": {
          "base_uri": "https://localhost:8080/"
        },
        "id": "2O8bbRvG-pia",
        "outputId": "aed66fc5-10cf-45e6-99d0-0399850e8539"
      },
      "id": "2O8bbRvG-pia",
      "execution_count": 4,
      "outputs": [
        {
          "output_type": "stream",
          "name": "stdout",
          "text": [
            "20\n",
            "[20 50]\n",
            "[40 50 60]\n"
          ]
        }
      ]
    },
    {
      "cell_type": "markdown",
      "source": [
        "### Reshaping"
      ],
      "metadata": {
        "id": "Da9VfDvsB_4W"
      },
      "id": "Da9VfDvsB_4W"
    },
    {
      "cell_type": "code",
      "source": [
        "flat = np.array([1, 2, 3, 4, 5, 6])\n",
        "reshaped = flat.reshape((2, 3))  # 2 rows, 3 columns\n",
        "print(flat)\n",
        "print(reshaped)"
      ],
      "metadata": {
        "colab": {
          "base_uri": "https://localhost:8080/"
        },
        "id": "2WVxWc07CFPM",
        "outputId": "44b43792-55c3-4ab2-8d3e-a7c318c59b4f"
      },
      "id": "2WVxWc07CFPM",
      "execution_count": 5,
      "outputs": [
        {
          "output_type": "stream",
          "name": "stdout",
          "text": [
            "[1 2 3 4 5 6]\n",
            "[[1 2 3]\n",
            " [4 5 6]]\n"
          ]
        }
      ]
    },
    {
      "cell_type": "markdown",
      "source": [
        "## 4. Element-wise Operations\n",
        "NumPy allows you to perform arithmetic on arrays directly.\n",
        "\n"
      ],
      "metadata": {
        "id": "QaWbxPhLCIwD"
      },
      "id": "QaWbxPhLCIwD"
    },
    {
      "cell_type": "code",
      "source": [
        "x = np.array([1, 2, 3])\n",
        "y = np.array([10, 20, 30])\n",
        "\n",
        "print(x + y)    # [11, 22, 33]\n",
        "print(x * 2)    # [2, 4, 6]\n",
        "print(y / x)    # [10, 10, 10]"
      ],
      "metadata": {
        "colab": {
          "base_uri": "https://localhost:8080/"
        },
        "id": "qHop7rz7CRpq",
        "outputId": "02ccb72f-2823-4f29-a330-b3af98eefafc"
      },
      "id": "qHop7rz7CRpq",
      "execution_count": 6,
      "outputs": [
        {
          "output_type": "stream",
          "name": "stdout",
          "text": [
            "[11 22 33]\n",
            "[2 4 6]\n",
            "[10. 10. 10.]\n"
          ]
        }
      ]
    },
    {
      "cell_type": "markdown",
      "source": [
        "Works the same way for 2D arrays as long as shapes are compatible.\n"
      ],
      "metadata": {
        "id": "xGV7z7AiCTyM"
      },
      "id": "xGV7z7AiCTyM"
    },
    {
      "cell_type": "markdown",
      "source": [
        "## 5. Broadcasting\n",
        "Broadcasting lets NumPy apply operations between arrays of different shapes."
      ],
      "metadata": {
        "id": "PrjnfoFDCVLR"
      },
      "id": "PrjnfoFDCVLR"
    },
    {
      "cell_type": "code",
      "source": [
        "# Scalar broadcast\n",
        "a = np.array([1, 2, 3])\n",
        "print(a + 5)  # [6, 7, 8]\n",
        "\n",
        "# Array broadcast\n",
        "b = np.array([[1], [2], [3]])\n",
        "c = np.array([10, 20, 30])\n",
        "print(b + c)\n",
        "\n",
        "# Output:\n",
        "# [[11 21 31]\n",
        "#  [12 22 32]\n",
        "#  [13 23 33]]"
      ],
      "metadata": {
        "colab": {
          "base_uri": "https://localhost:8080/"
        },
        "id": "IT_Q4NwJCYrD",
        "outputId": "bf97fe34-a127-4e6a-f4fa-47c3f3eb35d1"
      },
      "id": "IT_Q4NwJCYrD",
      "execution_count": 7,
      "outputs": [
        {
          "output_type": "stream",
          "name": "stdout",
          "text": [
            "[6 7 8]\n",
            "[[11 21 31]\n",
            " [12 22 32]\n",
            " [13 23 33]]\n"
          ]
        }
      ]
    },
    {
      "cell_type": "markdown",
      "source": [
        "## 6. Aggregations: Mean, Median, Std Dev\n",
        "NumPy provides fast aggregation functions:\n"
      ],
      "metadata": {
        "id": "e4bZr500Cb6d"
      },
      "id": "e4bZr500Cb6d"
    },
    {
      "cell_type": "code",
      "source": [
        "arr = np.array([[10, 20, 30], [40, 50, 60]])\n",
        "\n",
        "# Basic aggregations\n",
        "print(\"Mean:\", arr.mean())         # Mean of all elements\n",
        "print(\"Row-wise Mean:\", arr.mean(axis=1))  # [20, 50]\n",
        "print(\"Column-wise Mean:\", arr.mean(axis=0))  # [25, 35, 45]\n",
        "\n",
        "# Median\n",
        "print(\"Median:\", np.median(arr))\n",
        "\n",
        "# Standard deviation\n",
        "print(\"Std Dev:\", np.std(arr))"
      ],
      "metadata": {
        "colab": {
          "base_uri": "https://localhost:8080/"
        },
        "id": "yjLiLaqsCjBM",
        "outputId": "4823a992-0b59-464d-d7d4-fa29e3c284d3"
      },
      "id": "yjLiLaqsCjBM",
      "execution_count": 8,
      "outputs": [
        {
          "output_type": "stream",
          "name": "stdout",
          "text": [
            "Mean: 35.0\n",
            "Row-wise Mean: [20. 50.]\n",
            "Column-wise Mean: [25. 35. 45.]\n",
            "Median: 35.0\n",
            "Std Dev: 17.07825127659933\n"
          ]
        }
      ]
    },
    {
      "cell_type": "markdown",
      "source": [
        "## Bonus: Logical Filtering"
      ],
      "metadata": {
        "id": "6Ll41CL8Cj3A"
      },
      "id": "6Ll41CL8Cj3A"
    },
    {
      "cell_type": "code",
      "source": [
        "arr = np.array([1, 2, 3, 4, 5, 6])\n",
        "even = arr[arr % 2 == 0]  # [2, 4, 6]\n",
        "print(arr)\n",
        "print(even)"
      ],
      "metadata": {
        "colab": {
          "base_uri": "https://localhost:8080/"
        },
        "id": "4xNZYzOHCnzQ",
        "outputId": "fd34ceb8-9516-4e59-dae7-6f951b6752f9"
      },
      "id": "4xNZYzOHCnzQ",
      "execution_count": 10,
      "outputs": [
        {
          "output_type": "stream",
          "name": "stdout",
          "text": [
            "[1 2 3 4 5 6]\n",
            "[2 4 6]\n"
          ]
        }
      ]
    },
    {
      "cell_type": "markdown",
      "source": [
        "## Practice: Mini Exercise"
      ],
      "metadata": {
        "id": "muPS1uRZCs4D"
      },
      "id": "muPS1uRZCs4D"
    },
    {
      "cell_type": "code",
      "source": [
        "# Create a 3x3 matrix with values from 1 to 9\n",
        "matrix = np.arange(1, 10).reshape(3, 3)\n",
        "\n",
        "# Multiply by 10\n",
        "multiplied = matrix * 10\n",
        "\n",
        "# Get mean of each row\n",
        "row_mean = multiplied.mean(axis=1)\n",
        "\n",
        "# Print results\n",
        "print(\"Matrix:\\n\", matrix)\n",
        "print(\"Multiplied by 10:\\n\", multiplied)\n",
        "print(\"Row-wise mean:\\n\", row_mean)"
      ],
      "metadata": {
        "colab": {
          "base_uri": "https://localhost:8080/"
        },
        "id": "KKOJQDIKCtdK",
        "outputId": "918f3e8b-3bea-4d73-9562-178bc3181f40"
      },
      "id": "KKOJQDIKCtdK",
      "execution_count": 11,
      "outputs": [
        {
          "output_type": "stream",
          "name": "stdout",
          "text": [
            "Matrix:\n",
            " [[1 2 3]\n",
            " [4 5 6]\n",
            " [7 8 9]]\n",
            "Multiplied by 10:\n",
            " [[10 20 30]\n",
            " [40 50 60]\n",
            " [70 80 90]]\n",
            "Row-wise mean:\n",
            " [20. 50. 80.]\n"
          ]
        }
      ]
    },
    {
      "cell_type": "markdown",
      "source": [
        "## Summary\n",
        "\n",
        "| Concept      | Function                                |\n",
        "| ------------ | --------------------------------------- |\n",
        "| Create array | `np.array()`, `np.zeros()`, `np.ones()` |\n",
        "| Index/Slice  | `arr[1, 2]`, `arr[:, 0]`                |\n",
        "| Reshape      | `arr.reshape()`                         |\n",
        "| Arithmetic   | `+`, `-`, `*`, `/`                      |\n",
        "| Broadcast    | Works with compatible shapes            |\n",
        "| Aggregations | `mean()`, `std()`, `median()`           |\n",
        "\n",
        "\n",
        "NumPy makes data manipulation fast and intuitive. Understanding it is crucial before working with pandas.\n",
        "\n"
      ],
      "metadata": {
        "id": "yoU5kztRCwES"
      },
      "id": "yoU5kztRCwES"
    }
  ],
  "metadata": {
    "colab": {
      "provenance": [],
      "include_colab_link": true
    },
    "language_info": {
      "name": "python"
    },
    "kernelspec": {
      "name": "python3",
      "display_name": "Python 3"
    }
  },
  "nbformat": 4,
  "nbformat_minor": 5
}