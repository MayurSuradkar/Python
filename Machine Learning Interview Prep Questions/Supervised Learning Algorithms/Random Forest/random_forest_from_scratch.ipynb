{
  "nbformat": 4,
  "nbformat_minor": 0,
  "metadata": {
    "colab": {
      "provenance": [],
      "authorship_tag": "ABX9TyNEYK8RW/3JyExf0owG7V4u",
      "include_colab_link": true
    },
    "kernelspec": {
      "name": "python3",
      "display_name": "Python 3"
    },
    "language_info": {
      "name": "python"
    }
  },
  "cells": [
    {
      "cell_type": "markdown",
      "metadata": {
        "id": "view-in-github",
        "colab_type": "text"
      },
      "source": [
        "<a href=\"https://colab.research.google.com/github/Tanu-N-Prabhu/Python/blob/master/Machine%20Learning%20Interview%20Prep%20Questions/Supervised%20Learning%20Algorithms/Random%20Forest/random_forest_from_scratch.ipynb\" target=\"_parent\"><img src=\"https://colab.research.google.com/assets/colab-badge.svg\" alt=\"Open In Colab\"/></a>"
      ]
    },
    {
      "cell_type": "markdown",
      "source": [
        "# Random Forest from Scratch (No ML Libraries)\n",
        "\n",
        "In this notebook, we’ll:\n",
        "\n",
        "- Understand how Random Forest works\n",
        "- Use multiple decision trees (weak learners)\n",
        "- Train on different random subsets of the data\n",
        "- Make predictions using **majority voting**\n",
        "- Implement everything using only NumPy\n",
        "\n",
        "## What is Random Forest?\n",
        "\n",
        "Random Forest is an **ensemble method** that builds multiple decision trees and combines their predictions.\n",
        "\n",
        "Key ideas:\n",
        "- **Bootstrap sampling**: each tree trains on a random subset of the data (with replacement)\n",
        "- **Random feature selection**: (optional) trees use a random subset of features\n",
        "- **Majority voting**: for classification, each tree votes and the most common label wins\n",
        "\n",
        "Benefits:\n",
        "- Handles overfitting better than a single tree\n",
        "- More stable and accurate\n",
        "\n",
        "\n",
        "## Imports + Toy Dataset\n"
      ],
      "metadata": {
        "id": "K7N8BmHHNaQD"
      }
    },
    {
      "cell_type": "code",
      "source": [
        "import numpy as np\n",
        "import matplotlib.pyplot as plt\n",
        "\n",
        "# Simple 1D binary classification data\n",
        "X = np.array([\n",
        "    [2.7], [1.3], [3.0], [1.0], [3.2], [4.1],\n",
        "    [1.1], [1.8], [3.5], [3.7]\n",
        "])\n",
        "y = np.array([0, 0, 1, 0, 1, 1, 0, 0, 1, 1])\n",
        "\n",
        "\n",
        "print(X)\n",
        "print(y)"
      ],
      "metadata": {
        "colab": {
          "base_uri": "https://localhost:8080/"
        },
        "id": "edV0RoWsNl3s",
        "outputId": "b6536657-7847-4557-8600-835fba78b209"
      },
      "execution_count": null,
      "outputs": [
        {
          "output_type": "stream",
          "name": "stdout",
          "text": [
            "[[2.7]\n",
            " [1.3]\n",
            " [3. ]\n",
            " [1. ]\n",
            " [3.2]\n",
            " [4.1]\n",
            " [1.1]\n",
            " [1.8]\n",
            " [3.5]\n",
            " [3.7]]\n",
            "[0 0 1 0 1 1 0 0 1 1]\n"
          ]
        }
      ]
    },
    {
      "cell_type": "markdown",
      "source": [
        "## Gini + Split + Tree (Reuse from Decision Tree)"
      ],
      "metadata": {
        "id": "tvpHlGA4NuRt"
      }
    },
    {
      "cell_type": "code",
      "source": [
        "def gini(y):\n",
        "    classes = np.unique(y)\n",
        "    impurity = 1\n",
        "    for c in classes:\n",
        "        p = np.sum(y == c) / len(y)\n",
        "        impurity -= p ** 2\n",
        "    return impurity\n",
        "\n",
        "def split_dataset(X, y, threshold):\n",
        "    left_idx = X[:, 0] < threshold\n",
        "    right_idx = ~left_idx\n",
        "    return X[left_idx], y[left_idx], X[right_idx], y[right_idx]\n",
        "\n",
        "def best_split(X, y):\n",
        "    best_gini = 1\n",
        "    best_threshold = None\n",
        "    thresholds = np.unique(X[:, 0])\n",
        "    for t in thresholds:\n",
        "        _, y_left, _, y_right = split_dataset(X, y, t)\n",
        "        if len(y_left) == 0 or len(y_right) == 0:\n",
        "            continue\n",
        "        g = (len(y_left) * gini(y_left) + len(y_right) * gini(y_right)) / len(y)\n",
        "        if g < best_gini:\n",
        "            best_gini = g\n",
        "            best_threshold = t\n",
        "    return best_threshold, best_gini\n",
        "\n",
        "def build_tree(X, y, depth=0, max_depth=2):\n",
        "    if depth >= max_depth or len(set(y)) == 1:\n",
        "        return {'leaf': True, 'class': int(np.round(np.mean(y)))}\n",
        "    threshold, _ = best_split(X, y)\n",
        "    if threshold is None:\n",
        "        return {'leaf': True, 'class': int(np.round(np.mean(y)))}\n",
        "    X_left, y_left, X_right, y_right = split_dataset(X, y, threshold)\n",
        "    return {\n",
        "        'leaf': False,\n",
        "        'threshold': threshold,\n",
        "        'left': build_tree(X_left, y_left, depth + 1, max_depth),\n",
        "        'right': build_tree(X_right, y_right, depth + 1, max_depth)\n",
        "    }\n",
        "\n",
        "def predict_tree(tree, x):\n",
        "    if tree['leaf']:\n",
        "        return tree['class']\n",
        "    if x[0] < tree['threshold']:\n",
        "        return predict_tree(tree['left'], x)\n",
        "    else:\n",
        "        return predict_tree(tree['right'], x)"
      ],
      "metadata": {
        "id": "2BoVD48HNvK-"
      },
      "execution_count": null,
      "outputs": []
    },
    {
      "cell_type": "markdown",
      "source": [
        "## Build Random Forest"
      ],
      "metadata": {
        "id": "oDJ1timwN0fL"
      }
    },
    {
      "cell_type": "code",
      "source": [
        "def bootstrap_sample(X, y):\n",
        "    n_samples = X.shape[0]\n",
        "    idx = np.random.choice(n_samples, n_samples, replace=True)\n",
        "    return X[idx], y[idx]\n",
        "\n",
        "def build_forest(X, y, n_trees=5, max_depth=2):\n",
        "    forest = []\n",
        "    for _ in range(n_trees):\n",
        "        X_sample, y_sample = bootstrap_sample(X, y)\n",
        "        tree = build_tree(X_sample, y_sample, max_depth=max_depth)\n",
        "        forest.append(tree)\n",
        "    return forest"
      ],
      "metadata": {
        "id": "S4WXXcBvN4Oc"
      },
      "execution_count": null,
      "outputs": []
    },
    {
      "cell_type": "markdown",
      "source": [
        "## Predict Using Majority Voting"
      ],
      "metadata": {
        "id": "3UvXLmgoN9Gh"
      }
    },
    {
      "cell_type": "code",
      "source": [
        "from collections import Counter\n",
        "\n",
        "def predict_forest(forest, x):\n",
        "    predictions = [predict_tree(tree, x) for tree in forest]\n",
        "    most_common = Counter(predictions).most_common(1)[0][0]\n",
        "    return most_common"
      ],
      "metadata": {
        "id": "dEwsO83jN9vt"
      },
      "execution_count": null,
      "outputs": []
    },
    {
      "cell_type": "markdown",
      "source": [
        "## Train and Test the Forest"
      ],
      "metadata": {
        "id": "L2g3lG90OBFW"
      }
    },
    {
      "cell_type": "code",
      "source": [
        "forest = build_forest(X, y, n_trees=5, max_depth=2)\n",
        "\n",
        "# Test predictions\n",
        "X_test = np.array([[1.5], [3.8], [2.0]])\n",
        "for x in X_test:\n",
        "    print(f\"Input {x[0]} → Predicted Class: {predict_forest(forest, x)}\")\n"
      ],
      "metadata": {
        "colab": {
          "base_uri": "https://localhost:8080/"
        },
        "id": "6nzcdfZSOBrJ",
        "outputId": "d5222399-70f0-4eac-80a1-d794f3d177e5"
      },
      "execution_count": null,
      "outputs": [
        {
          "output_type": "stream",
          "name": "stdout",
          "text": [
            "Input 1.5 → Predicted Class: 0\n",
            "Input 3.8 → Predicted Class: 1\n",
            "Input 2.0 → Predicted Class: 0\n"
          ]
        }
      ]
    },
    {
      "cell_type": "markdown",
      "source": [
        "## Summary\n",
        "\n",
        "- Implemented Random Forest using multiple Decision Trees\n",
        "- Used bootstrap sampling for training diversity\n",
        "- Combined predictions with majority voting\n",
        "- Built everything using pure NumPy and Python\n",
        "\n",
        "Random Forest is a strong and interpretable ML model, and understanding it deeply is great for interviews and real-world ML work.\n"
      ],
      "metadata": {
        "id": "5Qso_JqHOE1n"
      }
    }
  ]
}