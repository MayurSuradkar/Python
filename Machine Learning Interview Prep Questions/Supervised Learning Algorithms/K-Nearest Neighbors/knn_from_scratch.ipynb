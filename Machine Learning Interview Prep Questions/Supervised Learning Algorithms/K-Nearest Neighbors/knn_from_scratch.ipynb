{
  "nbformat": 4,
  "nbformat_minor": 0,
  "metadata": {
    "colab": {
      "provenance": [],
      "authorship_tag": "ABX9TyPK6HsvYok243KkhuCEfJyi",
      "include_colab_link": true
    },
    "kernelspec": {
      "name": "python3",
      "display_name": "Python 3"
    },
    "language_info": {
      "name": "python"
    }
  },
  "cells": [
    {
      "cell_type": "markdown",
      "metadata": {
        "id": "view-in-github",
        "colab_type": "text"
      },
      "source": [
        "<a href=\"https://colab.research.google.com/github/Tanu-N-Prabhu/Python/blob/master/Machine%20Learning%20Interview%20Prep%20Questions/Supervised%20Learning%20Algorithms/K-Nearest%20Neighbors/knn_from_scratch.ipynb\" target=\"_parent\"><img src=\"https://colab.research.google.com/assets/colab-badge.svg\" alt=\"Open In Colab\"/></a>"
      ]
    },
    {
      "cell_type": "markdown",
      "source": [
        "# K-Nearest Neighbors (KNN) from Scratch (No Libraries)\n",
        "\n",
        "In this notebook, we will:\n",
        "\n",
        "- Understand how KNN works  \n",
        "- Implement KNN for classification using NumPy  \n",
        "- Test on a small 2D dataset  \n",
        "- Visualize predictions and decision boundaries\n",
        "\n",
        "\n",
        "## What is K-Nearest Neighbors (KNN)?\n",
        "\n",
        "KNN is a **lazy learning**, **non-parametric** algorithm.\n",
        "\n",
        "It classifies a new data point by:\n",
        "1. Calculating the distance to all training points\n",
        "2. Finding the **K nearest neighbors**\n",
        "3. Taking a **majority vote** among their labels\n",
        "\n",
        "It works well with small datasets and is very intuitive.\n",
        "\n",
        "\n",
        "## Imports and Dataset\n"
      ],
      "metadata": {
        "id": "UnJXZ_koQXX0"
      }
    },
    {
      "cell_type": "code",
      "execution_count": 1,
      "metadata": {
        "colab": {
          "base_uri": "https://localhost:8080/",
          "height": 472
        },
        "id": "Q230a6OXQVh3",
        "outputId": "1c682626-2f13-4324-e37e-329c0f969c12"
      },
      "outputs": [
        {
          "output_type": "display_data",
          "data": {
            "text/plain": [
              "<Figure size 640x480 with 1 Axes>"
            ],
            "image/png": "[encoded data removed]"
          },
          "metadata": {}
        }
      ],
      "source": [
        "import numpy as np\n",
        "import matplotlib.pyplot as plt\n",
        "\n",
        "# Simple 2D classification dataset\n",
        "X_train = np.array([\n",
        "    [1, 2], [2, 3], [3, 1], [6, 5], [7, 7], [8, 6]\n",
        "])\n",
        "y_train = np.array([0, 0, 0, 1, 1, 1])  # 0 = red class, 1 = blue class\n",
        "\n",
        "# Plot training data\n",
        "plt.scatter(X_train[:, 0], X_train[:, 1], c=y_train, cmap='bwr')\n",
        "plt.title(\"KNN Training Data\")\n",
        "plt.xlabel(\"X1\")\n",
        "plt.ylabel(\"X2\")\n",
        "plt.grid(True)\n",
        "plt.show()"
      ]
    },
    {
      "cell_type": "markdown",
      "source": [
        "## Euclidean Distance Function"
      ],
      "metadata": {
        "id": "csw1X8oTQnUF"
      }
    },
    {
      "cell_type": "code",
      "source": [
        "def euclidean_distance(x1, x2):\n",
        "    return np.sqrt(np.sum((x1 - x2)**2))\n"
      ],
      "metadata": {
        "id": "61fymZm5QoO4"
      },
      "execution_count": 2,
      "outputs": []
    },
    {
      "cell_type": "markdown",
      "source": [
        "## KNN Predict Function"
      ],
      "metadata": {
        "id": "lmHH00d5Qqr8"
      }
    },
    {
      "cell_type": "code",
      "source": [
        "from collections import Counter\n",
        "\n",
        "def knn_predict(X_train, y_train, x_test, k=3):\n",
        "    distances = [euclidean_distance(x_test, x_train) for x_train in X_train]\n",
        "    k_indices = np.argsort(distances)[:k]\n",
        "    k_nearest_labels = [y_train[i] for i in k_indices]\n",
        "    most_common = Counter(k_nearest_labels).most_common(1)[0][0]\n",
        "    return most_common\n"
      ],
      "metadata": {
        "id": "ZufHwxRzQuKT"
      },
      "execution_count": 3,
      "outputs": []
    },
    {
      "cell_type": "markdown",
      "source": [
        "## Test the Model"
      ],
      "metadata": {
        "id": "M5Ls55wJQzlv"
      }
    },
    {
      "cell_type": "code",
      "source": [
        "X_test = np.array([\n",
        "    [2, 2],\n",
        "    [7, 5],\n",
        "    [5, 5]\n",
        "])\n",
        "\n",
        "for x in X_test:\n",
        "    pred = knn_predict(X_train, y_train, x, k=3)\n",
        "    print(f\"Test point {x} → Predicted class: {pred}\")"
      ],
      "metadata": {
        "colab": {
          "base_uri": "https://localhost:8080/"
        },
        "id": "6iB9BqgEQ0Ts",
        "outputId": "9cdcd71c-5c8f-4aa7-814b-6e6cd460cf2a"
      },
      "execution_count": 4,
      "outputs": [
        {
          "output_type": "stream",
          "name": "stdout",
          "text": [
            "Test point [2 2] → Predicted class: 0\n",
            "Test point [7 5] → Predicted class: 1\n",
            "Test point [5 5] → Predicted class: 1\n"
          ]
        }
      ]
    },
    {
      "cell_type": "markdown",
      "source": [
        "## Visualize Test Points"
      ],
      "metadata": {
        "id": "RxKZwVMxQ5h0"
      }
    },
    {
      "cell_type": "code",
      "source": [
        "plt.scatter(X_train[:, 0], X_train[:, 1], c=y_train, cmap='bwr', label=\"Train\")\n",
        "plt.scatter(X_test[:, 0], X_test[:, 1], c='green', label=\"Test\", marker='x', s=100)\n",
        "plt.title(\"KNN Classification\")\n",
        "plt.xlabel(\"X1\")\n",
        "plt.ylabel(\"X2\")\n",
        "plt.legend()\n",
        "plt.grid(True)\n",
        "plt.show()"
      ],
      "metadata": {
        "colab": {
          "base_uri": "https://localhost:8080/",
          "height": 472
        },
        "id": "pdUtSnfcQ6I1",
        "outputId": "974b0657-adc0-41a4-95f4-44608661a58c"
      },
      "execution_count": 5,
      "outputs": [
        {
          "output_type": "display_data",
          "data": {
            "text/plain": [
              "<Figure size 640x480 with 1 Axes>"
            ],
            "image/png": "[encoded data removed]"
          },
          "metadata": {}
        }
      ]
    },
    {
      "cell_type": "markdown",
      "source": [
        "## Summary\n",
        "\n",
        "- Implemented KNN classification from scratch with NumPy\n",
        "- Used Euclidean distance to find closest neighbors\n",
        "- Classified test points using majority vote\n",
        "- Visualized results\n",
        "\n",
        "KNN is simple, intuitive, and often a great baseline for classification tasks. Great for interviews too!\n"
      ],
      "metadata": {
        "id": "F1QkjK6OQ_Wd"
      }
    }
  ]
}