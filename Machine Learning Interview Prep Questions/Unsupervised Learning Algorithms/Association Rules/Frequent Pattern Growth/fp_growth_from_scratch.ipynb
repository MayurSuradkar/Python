{
  "nbformat": 4,
  "nbformat_minor": 0,
  "metadata": {
    "colab": {
      "provenance": [],
      "authorship_tag": "ABX9TyPLD9c1J+QyUwuWlQYtCY2Y",
      "include_colab_link": true
    },
    "kernelspec": {
      "name": "python3",
      "display_name": "Python 3"
    },
    "language_info": {
      "name": "python"
    }
  },
  "cells": [
    {
      "cell_type": "markdown",
      "metadata": {
        "id": "view-in-github",
        "colab_type": "text"
      },
      "source": [
        "<a href=\"https://colab.research.google.com/github/Tanu-N-Prabhu/Python/blob/master/Machine%20Learning%20Interview%20Prep%20Questions/Unsupervised%20Learning%20Algorithms/Association%20Rules/Frequent%20Pattern%20Growth/fp_growth_from_scratch.ipynb\" target=\"_parent\"><img src=\"https://colab.research.google.com/assets/colab-badge.svg\" alt=\"Open In Colab\"/></a>"
      ]
    },
    {
      "cell_type": "markdown",
      "source": [
        "# FP-Growth Algorithm from Scratch (Pure Python)\n",
        "\n",
        "FP-Growth (Frequent Pattern Growth) is a high-performance algorithm for discovering frequent itemsets without candidate generation.\n",
        "\n",
        "- Uses a **compressed prefix tree** (FP-Tree)\n",
        "- Avoids scanning database repeatedly (unlike Apriori)\n",
        "- Ideal for **large-scale transaction data**\n",
        "\n",
        "\n",
        "## Sample Transactions"
      ],
      "metadata": {
        "id": "6IxHkcrHp9z2"
      }
    },
    {
      "cell_type": "code",
      "source": [
        "transactions = [\n",
        "    ['milk', 'bread', 'butter'],\n",
        "    ['bread', 'butter'],\n",
        "    ['milk', 'bread'],\n",
        "    ['milk', 'bread', 'butter', 'jam'],\n",
        "    ['bread', 'jam'],\n",
        "    ['milk', 'bread', 'jam']\n",
        "]"
      ],
      "metadata": {
        "id": "cer4dr3gqC9W"
      },
      "execution_count": 1,
      "outputs": []
    },
    {
      "cell_type": "markdown",
      "source": [
        "## FP-Growth Components\n",
        "### Count Item Frequencies"
      ],
      "metadata": {
        "id": "qCCBxbXXqHtX"
      }
    },
    {
      "cell_type": "code",
      "source": [
        "from collections import defaultdict\n",
        "\n",
        "def get_item_counts(transactions):\n",
        "    item_counts = defaultdict(int)\n",
        "    for tx in transactions:\n",
        "        for item in tx:\n",
        "            item_counts[item] += 1\n",
        "    return item_counts"
      ],
      "metadata": {
        "id": "fy59_t_vqJj9"
      },
      "execution_count": 2,
      "outputs": []
    },
    {
      "cell_type": "markdown",
      "source": [
        "### Build FP-Tree Node Class\n"
      ],
      "metadata": {
        "id": "7rhVEOxHqN22"
      }
    },
    {
      "cell_type": "code",
      "source": [
        "class FPTreeNode:\n",
        "    def __init__(self, item, parent):\n",
        "        self.item = item\n",
        "        self.count = 1\n",
        "        self.parent = parent\n",
        "        self.children = {}\n",
        "        self.link = None  # Used to create header table chains\n",
        "\n",
        "    def increment(self):\n",
        "        self.count += 1"
      ],
      "metadata": {
        "id": "tRuVwCoOqPms"
      },
      "execution_count": 3,
      "outputs": []
    },
    {
      "cell_type": "markdown",
      "source": [
        "### Build FP-Tree\n"
      ],
      "metadata": {
        "id": "eQCVG-feqTGJ"
      }
    },
    {
      "cell_type": "code",
      "source": [
        "def build_fp_tree(transactions, min_support):\n",
        "    item_counts = get_item_counts(transactions)\n",
        "    item_counts = {item: count for item, count in item_counts.items() if count >= min_support}\n",
        "\n",
        "    # Header Table: item -> [support, first node]\n",
        "    header_table = {item: [count, None] for item, count in item_counts.items()}\n",
        "    root = FPTreeNode(None, None)\n",
        "\n",
        "    for tx in transactions:\n",
        "        # Filter and sort items in transaction\n",
        "        filtered_tx = [item for item in tx if item in item_counts]\n",
        "        sorted_tx = sorted(filtered_tx, key=lambda i: item_counts[i], reverse=True)\n",
        "\n",
        "        # Insert into tree\n",
        "        current_node = root\n",
        "        for item in sorted_tx:\n",
        "            if item in current_node.children:\n",
        "                current_node.children[item].increment()\n",
        "            else:\n",
        "                new_node = FPTreeNode(item, current_node)\n",
        "                current_node.children[item] = new_node\n",
        "\n",
        "                # Link to header table\n",
        "                if header_table[item][1] is None:\n",
        "                    header_table[item][1] = new_node\n",
        "                else:\n",
        "                    node = header_table[item][1]\n",
        "                    while node.link:\n",
        "                        node = node.link\n",
        "                    node.link = new_node\n",
        "\n",
        "            current_node = current_node.children[item]\n",
        "\n",
        "    return root, header_table"
      ],
      "metadata": {
        "id": "SoGh7X4AqU6g"
      },
      "execution_count": 4,
      "outputs": []
    },
    {
      "cell_type": "markdown",
      "source": [
        "### Mine Frequent Patterns\n",
        "\n"
      ],
      "metadata": {
        "id": "ay3JYLz_qaAE"
      }
    },
    {
      "cell_type": "code",
      "source": [
        "def ascend_fp_tree(node):\n",
        "    path = []\n",
        "    while node.parent and node.parent.item is not None:\n",
        "        node = node.parent\n",
        "        path.append(node.item)\n",
        "    return path[::-1]  # reverse path\n",
        "\n",
        "def find_prefix_paths(base_pat, node):\n",
        "    paths = []\n",
        "    while node:\n",
        "        path = ascend_fp_tree(node)\n",
        "        if path:\n",
        "            paths.append((path, node.count))\n",
        "        node = node.link\n",
        "    return paths"
      ],
      "metadata": {
        "id": "00XjvsHiqW1t"
      },
      "execution_count": 5,
      "outputs": []
    },
    {
      "cell_type": "markdown",
      "source": [
        "## Recursive Mining"
      ],
      "metadata": {
        "id": "FMFg9Wufrxxt"
      }
    },
    {
      "cell_type": "code",
      "source": [
        "def mine_fp_tree(header_table, min_support, prefix, frequent_itemsets):\n",
        "    items = sorted(header_table.items(), key=lambda i: i[1][0])  # Ascending frequency\n",
        "\n",
        "    for base_item, (support, node) in items:\n",
        "        new_freq_set = prefix + [base_item]\n",
        "        frequent_itemsets[tuple(new_freq_set)] = support\n",
        "\n",
        "        conditional_patterns = find_prefix_paths(base_item, node)\n",
        "\n",
        "        # Build conditional transactions\n",
        "        conditional_transactions = []\n",
        "        for path, count in conditional_patterns:\n",
        "            conditional_transactions.extend([path] * count)\n",
        "\n",
        "        # Build conditional FP-Tree\n",
        "        if conditional_transactions:\n",
        "            conditional_tree, new_header = build_fp_tree(conditional_transactions, min_support)\n",
        "            if new_header:\n",
        "                mine_fp_tree(new_header, min_support, new_freq_set, frequent_itemsets)"
      ],
      "metadata": {
        "id": "M2UE3g-qryZ_"
      },
      "execution_count": 6,
      "outputs": []
    },
    {
      "cell_type": "markdown",
      "source": [
        "## Run FP-Growth"
      ],
      "metadata": {
        "id": "GNBnB16_r2Ud"
      }
    },
    {
      "cell_type": "code",
      "source": [
        "min_support = 3  # absolute count\n",
        "fp_tree, header_table = build_fp_tree(transactions, min_support)\n",
        "frequent_itemsets = {}\n",
        "mine_fp_tree(header_table, min_support, [], frequent_itemsets)\n",
        "\n",
        "print(\"Frequent Itemsets:\")\n",
        "for itemset, count in frequent_itemsets.items():\n",
        "    print(f\"{itemset}: {count}\")"
      ],
      "metadata": {
        "colab": {
          "base_uri": "https://localhost:8080/"
        },
        "id": "Ow60KEHQr8Jf",
        "outputId": "bab44d68-d2f6-4602-9f69-a352563b5fcc"
      },
      "execution_count": 7,
      "outputs": [
        {
          "output_type": "stream",
          "name": "stdout",
          "text": [
            "Frequent Itemsets:\n",
            "('butter',): 3\n",
            "('butter', 'bread'): 3\n",
            "('jam',): 3\n",
            "('jam', 'bread'): 3\n",
            "('milk',): 4\n",
            "('milk', 'bread'): 4\n",
            "('bread',): 6\n"
          ]
        }
      ]
    }
  ]
}