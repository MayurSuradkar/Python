{
  "nbformat": 4,
  "nbformat_minor": 0,
  "metadata": {
    "colab": {
      "provenance": [],
      "authorship_tag": "ABX9TyPYFbY1DwH2RFTQseA7K6Be",
      "include_colab_link": true
    },
    "kernelspec": {
      "name": "python3",
      "display_name": "Python 3"
    },
    "language_info": {
      "name": "python"
    }
  },
  "cells": [
    {
      "cell_type": "markdown",
      "metadata": {
        "id": "view-in-github",
        "colab_type": "text"
      },
      "source": [
        "<a href=\"https://colab.research.google.com/github/Tanu-N-Prabhu/Python/blob/master/Machine%20Learning%20Interview%20Prep%20Questions/Unsupervised%20Learning%20Algorithms/Association%20Rules/Equivalence%20Class%20Clustering%20and%20bottom-up%20Lattice%20Traversal/eclat_from_scratch.ipynb\" target=\"_parent\"><img src=\"https://colab.research.google.com/assets/colab-badge.svg\" alt=\"Open In Colab\"/></a>"
      ]
    },
    {
      "cell_type": "markdown",
      "source": [
        "# ECLAT Algorithm from Scratch (with Python)\n",
        "\n",
        "**ECLAT** (Equivalence Class Clustering and bottom-up Lattice Traversal) is an algorithm used for:\n",
        "- Frequent itemset mining\n",
        "- Association rule learning (pre-rule generation)\n",
        "\n",
        "Unlike Apriori (which uses horizontal data format), ECLAT uses **vertical data format**:\n",
        "- Items → Set of transaction IDs (TIDs)\n",
        "- Frequent itemsets are found via **TID-set intersections**\n",
        "\n",
        "## Sample Transactions"
      ],
      "metadata": {
        "id": "geNR2niZIG5h"
      }
    },
    {
      "cell_type": "code",
      "source": [
        "transactions = [\n",
        "    ['milk', 'bread', 'butter'],\n",
        "    ['bread', 'butter'],\n",
        "    ['milk', 'bread'],\n",
        "    ['milk', 'bread', 'butter', 'jam'],\n",
        "    ['bread', 'jam'],\n",
        "    ['milk', 'bread', 'jam']\n",
        "]"
      ],
      "metadata": {
        "id": "8gh6AxAGIL-p"
      },
      "execution_count": 1,
      "outputs": []
    },
    {
      "cell_type": "markdown",
      "source": [
        "## Convert to Vertical Format"
      ],
      "metadata": {
        "id": "SKUTZtI5IQ8L"
      }
    },
    {
      "cell_type": "code",
      "source": [
        "from collections import defaultdict\n",
        "\n",
        "def vertical_format(transactions):\n",
        "    vertical_db = defaultdict(set)\n",
        "    for tid, transaction in enumerate(transactions):\n",
        "        for item in transaction:\n",
        "            vertical_db[item].add(tid)\n",
        "    return vertical_db"
      ],
      "metadata": {
        "id": "4LqWG-bkIRyn"
      },
      "execution_count": 2,
      "outputs": []
    },
    {
      "cell_type": "markdown",
      "source": [
        "## Recursive ECLAT Function"
      ],
      "metadata": {
        "id": "rojBmJCiIUnv"
      }
    },
    {
      "cell_type": "code",
      "source": [
        "def eclat(prefix, items, min_support, frequent_itemsets, total_transactions):\n",
        "    while items:\n",
        "        item, tids = items.pop()\n",
        "        support = len(tids) / total_transactions\n",
        "\n",
        "        if support >= min_support:\n",
        "            new_itemset = prefix + [item]\n",
        "            frequent_itemsets[tuple(new_itemset)] = round(support, 2)\n",
        "\n",
        "            # Generate new suffixes by intersecting TID sets\n",
        "            suffixes = []\n",
        "            for other_item, other_tids in items:\n",
        "                intersection = tids & other_tids\n",
        "                if intersection:\n",
        "                    suffixes.append((other_item, intersection))\n",
        "\n",
        "            eclat(new_itemset, suffixes, min_support, frequent_itemsets, total_transactions)"
      ],
      "metadata": {
        "id": "GToJd9QOIVcs"
      },
      "execution_count": 3,
      "outputs": []
    },
    {
      "cell_type": "markdown",
      "source": [
        "## Run ECLAT"
      ],
      "metadata": {
        "id": "JrJjCIJgIYTC"
      }
    },
    {
      "cell_type": "code",
      "source": [
        "vertical_db = vertical_format(transactions)\n",
        "min_support = 0.4\n",
        "frequent_itemsets = {}\n",
        "\n",
        "items = sorted(vertical_db.items())\n",
        "eclat([], items, min_support, frequent_itemsets, len(transactions))\n",
        "\n",
        "print(\"Frequent Itemsets (Support ≥ 0.4):\")\n",
        "for itemset, support in frequent_itemsets.items():\n",
        "    print(f\"{itemset}: {support}\")"
      ],
      "metadata": {
        "colab": {
          "base_uri": "https://localhost:8080/"
        },
        "id": "Kdbj3MHvIY_h",
        "outputId": "052209a4-a884-439f-8228-21dbcb3cc4c2"
      },
      "execution_count": 4,
      "outputs": [
        {
          "output_type": "stream",
          "name": "stdout",
          "text": [
            "Frequent Itemsets (Support ≥ 0.4):\n",
            "('milk',): 0.67\n",
            "('milk', 'bread'): 0.67\n",
            "('jam',): 0.5\n",
            "('jam', 'bread'): 0.5\n",
            "('butter',): 0.5\n",
            "('butter', 'bread'): 0.5\n",
            "('bread',): 1.0\n"
          ]
        }
      ]
    },
    {
      "cell_type": "markdown",
      "source": [
        "## Summary\n",
        "* ECLAT is efficient for dense datasets with many frequent itemsets\n",
        "* Uses TID set intersections instead of scanning transactions repeatedly\n",
        "* Easier to optimize with set operations in memory"
      ],
      "metadata": {
        "id": "q3QxHaKwIeLW"
      }
    }
  ]
}