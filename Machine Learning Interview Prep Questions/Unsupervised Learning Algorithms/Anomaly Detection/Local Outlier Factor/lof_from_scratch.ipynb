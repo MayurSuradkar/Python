{
  "nbformat": 4,
  "nbformat_minor": 0,
  "metadata": {
    "colab": {
      "provenance": [],
      "authorship_tag": "ABX9TyPylSSO3IW9fFnpyCUNRxzM",
      "include_colab_link": true
    },
    "kernelspec": {
      "name": "python3",
      "display_name": "Python 3"
    },
    "language_info": {
      "name": "python"
    }
  },
  "cells": [
    {
      "cell_type": "markdown",
      "metadata": {
        "id": "view-in-github",
        "colab_type": "text"
      },
      "source": [
        "<a href=\"https://colab.research.google.com/github/Tanu-N-Prabhu/Python/blob/master/Machine%20Learning%20Interview%20Prep%20Questions/Unsupervised%20Learning%20Algorithms/Anomaly%20Detection/Local%20Outlier%20Factor/lof_from_scratch.ipynb\" target=\"_parent\"><img src=\"https://colab.research.google.com/assets/colab-badge.svg\" alt=\"Open In Colab\"/></a>"
      ]
    },
    {
      "cell_type": "markdown",
      "source": [
        "## What Is LOF?\n",
        "Local Outlier Factor (LOF) is an unsupervised anomaly detection algorithm that compares the local density of a point to the density of its neighbors. Anomalies are points that have much lower density than their surroundings.\n",
        "\n",
        "## Key Concepts\n",
        "\n",
        "| Term                                 | Meaning                                                      |\n",
        "| ------------------------------------ | ------------------------------------------------------------ |\n",
        "| **k-distance**                       | Distance to the k-th nearest neighbor                        |\n",
        "| **Reachability distance**            | Max(k-distance of neighbor, actual distance)                 |\n",
        "| **Local Reachability Density (LRD)** | Inverse of average reachability distance                     |\n",
        "| **LOF score**                        | Ratio of average LRD of neighbors to LRD of the point itself |\n",
        "\n",
        "\n",
        "## Interpretation\n",
        "* LOF `≈` 1 → normal point\n",
        "* LOF `>` 1 → potential outlier\n",
        "* LOF `≫` 1 → strong outlier\n",
        "\n",
        "## Implementation (Step-by-Step, Function-Based)"
      ],
      "metadata": {
        "id": "HAdsvqiiAG5o"
      }
    },
    {
      "cell_type": "code",
      "source": [
        "import numpy as np\n",
        "from sklearn.datasets import make_blobs\n",
        "import matplotlib.pyplot as plt"
      ],
      "metadata": {
        "id": "sjHnifhRJLYo"
      },
      "execution_count": 1,
      "outputs": []
    },
    {
      "cell_type": "markdown",
      "source": [
        "## 1. Generate Data\n"
      ],
      "metadata": {
        "id": "OleEITtiJdE_"
      }
    },
    {
      "cell_type": "code",
      "source": [
        "# Normal data cluster + a few outliers\n",
        "X, _ = make_blobs(n_samples=100, centers=1, cluster_std=0.7, random_state=42)\n",
        "outliers = np.random.uniform(low=-6, high=6, size=(5, 2))\n",
        "data = np.vstack((X, outliers))"
      ],
      "metadata": {
        "id": "-_ytHLpbJe0H"
      },
      "execution_count": 2,
      "outputs": []
    },
    {
      "cell_type": "markdown",
      "source": [
        "## 2. Euclidean Distance Function"
      ],
      "metadata": {
        "id": "b2zZ0prRJjyd"
      }
    },
    {
      "cell_type": "code",
      "source": [
        "def euclidean(a, b):\n",
        "    return np.linalg.norm(a - b)"
      ],
      "metadata": {
        "id": "lSdTQvsaJkjX"
      },
      "execution_count": 3,
      "outputs": []
    },
    {
      "cell_type": "markdown",
      "source": [
        "## 3. Get k Nearest Neighbors for Each Point"
      ],
      "metadata": {
        "id": "wtGqLacLJoXW"
      }
    },
    {
      "cell_type": "code",
      "source": [
        "def k_nearest_neighbors(data, point_index, k):\n",
        "    distances = []\n",
        "    for i, point in enumerate(data):\n",
        "        if i != point_index:\n",
        "            d = euclidean(data[point_index], point)\n",
        "            distances.append((i, d))\n",
        "    distances.sort(key=lambda x: x[1])\n",
        "    return distances[:k]"
      ],
      "metadata": {
        "id": "Iizw4L7wJrAo"
      },
      "execution_count": 4,
      "outputs": []
    },
    {
      "cell_type": "markdown",
      "source": [
        "## 4. Compute k-Distance and Reachability Distances"
      ],
      "metadata": {
        "id": "ZZ_d4iLUJvhn"
      }
    },
    {
      "cell_type": "code",
      "source": [
        "def compute_reachability_distances(data, k):\n",
        "    k_distances = []\n",
        "    reach_dists = []\n",
        "\n",
        "    for i in range(len(data)):\n",
        "        neighbors = k_nearest_neighbors(data, i, k)\n",
        "        k_dist_i = neighbors[-1][1]\n",
        "        k_distances.append(k_dist_i)\n",
        "\n",
        "        reach_i = []\n",
        "        for j, d in neighbors:\n",
        "            k_dist_j = k_nearest_neighbors(data, j, k)[-1][1]\n",
        "            reach_dist = max(k_dist_j, d)\n",
        "            reach_i.append(reach_dist)\n",
        "        reach_dists.append(reach_i)\n",
        "\n",
        "    return k_distances, reach_dists"
      ],
      "metadata": {
        "id": "-KNIPc3MJwQv"
      },
      "execution_count": 5,
      "outputs": []
    },
    {
      "cell_type": "markdown",
      "source": [
        "## 5. Compute Local Reachability Density (LRD)"
      ],
      "metadata": {
        "id": "Cno5sui0J0Kj"
      }
    },
    {
      "cell_type": "code",
      "source": [
        "def compute_lrd(reach_dists):\n",
        "    lrd = []\n",
        "    for reach_list in reach_dists:\n",
        "        if sum(reach_list) == 0:\n",
        "            lrd.append(0)\n",
        "        else:\n",
        "            lrd.append(len(reach_list) / sum(reach_list))\n",
        "    return lrd"
      ],
      "metadata": {
        "id": "obXHU0epJ002"
      },
      "execution_count": 6,
      "outputs": []
    },
    {
      "cell_type": "markdown",
      "source": [
        "## 6. Compute LOF Scores"
      ],
      "metadata": {
        "id": "9dm-qfEWJ3gN"
      }
    },
    {
      "cell_type": "code",
      "source": [
        "def compute_lof_scores(data, k):\n",
        "    _, reach_dists = compute_reachability_distances(data, k)\n",
        "    lrd = compute_lrd(reach_dists)\n",
        "    lof_scores = []\n",
        "\n",
        "    for i in range(len(data)):\n",
        "        neighbors = k_nearest_neighbors(data, i, k)\n",
        "        lrd_ratios = [lrd[j] / lrd[i] if lrd[i] != 0 else 0 for j, _ in neighbors]\n",
        "        lof = sum(lrd_ratios) / k\n",
        "        lof_scores.append(lof)\n",
        "\n",
        "    return lof_scores"
      ],
      "metadata": {
        "id": "hnk1ec7KJ5yP"
      },
      "execution_count": 7,
      "outputs": []
    },
    {
      "cell_type": "markdown",
      "source": [
        "## 7. Detect Outliers"
      ],
      "metadata": {
        "id": "wmKPHGEXJ9yo"
      }
    },
    {
      "cell_type": "code",
      "source": [
        "k = 5\n",
        "lof_scores = compute_lof_scores(data, k)\n",
        "\n",
        "for i, score in enumerate(lof_scores):\n",
        "    status = \"Anomaly 🚨\" if score > 1.5 else \"Normal ✅\"\n",
        "    print(f\"Point {i}: LOF = {score:.3f} | {status}\")"
      ],
      "metadata": {
        "colab": {
          "base_uri": "https://localhost:8080/"
        },
        "id": "BBAqYoRZJ_Nr",
        "outputId": "66183cd4-406f-4c89-dc1c-639f103fe5a3"
      },
      "execution_count": 8,
      "outputs": [
        {
          "output_type": "stream",
          "name": "stdout",
          "text": [
            "Point 0: LOF = 0.975 | Normal ✅\n",
            "Point 1: LOF = 1.106 | Normal ✅\n",
            "Point 2: LOF = 0.975 | Normal ✅\n",
            "Point 3: LOF = 0.998 | Normal ✅\n",
            "Point 4: LOF = 0.962 | Normal ✅\n",
            "Point 5: LOF = 1.012 | Normal ✅\n",
            "Point 6: LOF = 1.187 | Normal ✅\n",
            "Point 7: LOF = 0.980 | Normal ✅\n",
            "Point 8: LOF = 1.096 | Normal ✅\n",
            "Point 9: LOF = 1.166 | Normal ✅\n",
            "Point 10: LOF = 1.193 | Normal ✅\n",
            "Point 11: LOF = 1.062 | Normal ✅\n",
            "Point 12: LOF = 1.136 | Normal ✅\n",
            "Point 13: LOF = 1.150 | Normal ✅\n",
            "Point 14: LOF = 1.053 | Normal ✅\n",
            "Point 15: LOF = 1.128 | Normal ✅\n",
            "Point 16: LOF = 1.023 | Normal ✅\n",
            "Point 17: LOF = 0.980 | Normal ✅\n",
            "Point 18: LOF = 1.023 | Normal ✅\n",
            "Point 19: LOF = 1.017 | Normal ✅\n",
            "Point 20: LOF = 1.042 | Normal ✅\n",
            "Point 21: LOF = 1.344 | Normal ✅\n",
            "Point 22: LOF = 1.021 | Normal ✅\n",
            "Point 23: LOF = 0.944 | Normal ✅\n",
            "Point 24: LOF = 1.047 | Normal ✅\n",
            "Point 25: LOF = 1.171 | Normal ✅\n",
            "Point 26: LOF = 1.150 | Normal ✅\n",
            "Point 27: LOF = 0.962 | Normal ✅\n",
            "Point 28: LOF = 0.952 | Normal ✅\n",
            "Point 29: LOF = 1.157 | Normal ✅\n",
            "Point 30: LOF = 0.961 | Normal ✅\n",
            "Point 31: LOF = 1.057 | Normal ✅\n",
            "Point 32: LOF = 1.014 | Normal ✅\n",
            "Point 33: LOF = 1.170 | Normal ✅\n",
            "Point 34: LOF = 1.333 | Normal ✅\n",
            "Point 35: LOF = 1.033 | Normal ✅\n",
            "Point 36: LOF = 0.961 | Normal ✅\n",
            "Point 37: LOF = 1.171 | Normal ✅\n",
            "Point 38: LOF = 1.022 | Normal ✅\n",
            "Point 39: LOF = 1.051 | Normal ✅\n",
            "Point 40: LOF = 0.955 | Normal ✅\n",
            "Point 41: LOF = 1.621 | Anomaly 🚨\n",
            "Point 42: LOF = 1.043 | Normal ✅\n",
            "Point 43: LOF = 0.972 | Normal ✅\n",
            "Point 44: LOF = 1.014 | Normal ✅\n",
            "Point 45: LOF = 0.997 | Normal ✅\n",
            "Point 46: LOF = 0.970 | Normal ✅\n",
            "Point 47: LOF = 1.090 | Normal ✅\n",
            "Point 48: LOF = 0.987 | Normal ✅\n",
            "Point 49: LOF = 0.996 | Normal ✅\n",
            "Point 50: LOF = 0.928 | Normal ✅\n",
            "Point 51: LOF = 0.961 | Normal ✅\n",
            "Point 52: LOF = 1.061 | Normal ✅\n",
            "Point 53: LOF = 0.974 | Normal ✅\n",
            "Point 54: LOF = 1.115 | Normal ✅\n",
            "Point 55: LOF = 1.081 | Normal ✅\n",
            "Point 56: LOF = 1.032 | Normal ✅\n",
            "Point 57: LOF = 2.729 | Anomaly 🚨\n",
            "Point 58: LOF = 1.029 | Normal ✅\n",
            "Point 59: LOF = 0.945 | Normal ✅\n",
            "Point 60: LOF = 0.948 | Normal ✅\n",
            "Point 61: LOF = 1.136 | Normal ✅\n",
            "Point 62: LOF = 1.090 | Normal ✅\n",
            "Point 63: LOF = 1.017 | Normal ✅\n",
            "Point 64: LOF = 0.983 | Normal ✅\n",
            "Point 65: LOF = 1.759 | Anomaly 🚨\n",
            "Point 66: LOF = 1.225 | Normal ✅\n",
            "Point 67: LOF = 1.197 | Normal ✅\n",
            "Point 68: LOF = 1.211 | Normal ✅\n",
            "Point 69: LOF = 1.002 | Normal ✅\n",
            "Point 70: LOF = 0.988 | Normal ✅\n",
            "Point 71: LOF = 1.009 | Normal ✅\n",
            "Point 72: LOF = 1.079 | Normal ✅\n",
            "Point 73: LOF = 1.118 | Normal ✅\n",
            "Point 74: LOF = 1.094 | Normal ✅\n",
            "Point 75: LOF = 1.005 | Normal ✅\n",
            "Point 76: LOF = 1.378 | Normal ✅\n",
            "Point 77: LOF = 1.033 | Normal ✅\n",
            "Point 78: LOF = 1.024 | Normal ✅\n",
            "Point 79: LOF = 1.034 | Normal ✅\n",
            "Point 80: LOF = 0.912 | Normal ✅\n",
            "Point 81: LOF = 1.138 | Normal ✅\n",
            "Point 82: LOF = 1.119 | Normal ✅\n",
            "Point 83: LOF = 0.984 | Normal ✅\n",
            "Point 84: LOF = 1.116 | Normal ✅\n",
            "Point 85: LOF = 1.021 | Normal ✅\n",
            "Point 86: LOF = 1.237 | Normal ✅\n",
            "Point 87: LOF = 1.029 | Normal ✅\n",
            "Point 88: LOF = 0.967 | Normal ✅\n",
            "Point 89: LOF = 1.101 | Normal ✅\n",
            "Point 90: LOF = 1.025 | Normal ✅\n",
            "Point 91: LOF = 1.287 | Normal ✅\n",
            "Point 92: LOF = 1.008 | Normal ✅\n",
            "Point 93: LOF = 1.007 | Normal ✅\n",
            "Point 94: LOF = 1.040 | Normal ✅\n",
            "Point 95: LOF = 1.108 | Normal ✅\n",
            "Point 96: LOF = 0.981 | Normal ✅\n",
            "Point 97: LOF = 1.167 | Normal ✅\n",
            "Point 98: LOF = 1.090 | Normal ✅\n",
            "Point 99: LOF = 1.056 | Normal ✅\n",
            "Point 100: LOF = 9.661 | Anomaly 🚨\n",
            "Point 101: LOF = 4.512 | Anomaly 🚨\n",
            "Point 102: LOF = 5.111 | Anomaly 🚨\n",
            "Point 103: LOF = 7.016 | Anomaly 🚨\n",
            "Point 104: LOF = 11.451 | Anomaly 🚨\n"
          ]
        }
      ]
    },
    {
      "cell_type": "markdown",
      "source": [
        "## 8. Visualize\n"
      ],
      "metadata": {
        "id": "CAF-ojRnKEsi"
      }
    },
    {
      "cell_type": "code",
      "source": [
        "colors = ['red' if score > 1.5 else 'blue' for score in lof_scores]\n",
        "\n",
        "plt.figure(figsize=(8, 6))\n",
        "plt.scatter(data[:, 0], data[:, 1], c=colors)\n",
        "plt.title(\"LOF Anomaly Detection\")\n",
        "plt.xlabel(\"Feature 1\")\n",
        "plt.ylabel(\"Feature 2\")\n",
        "plt.show()"
      ],
      "metadata": {
        "colab": {
          "base_uri": "https://localhost:8080/",
          "height": 564
        },
        "id": "pm2P4s4yKGOe",
        "outputId": "99db4c92-2b04-486b-9e5a-f314d20ed28f"
      },
      "execution_count": 9,
      "outputs": [
        {
          "output_type": "display_data",
          "data": {
            "text/plain": [
              "<Figure size 800x600 with 1 Axes>"
            ],
            "image/png": "[encoded data removed]"
          },
          "metadata": {}
        }
      ]
    },
    {
      "cell_type": "markdown",
      "source": [
        "## Summary\n",
        "\n",
        "| Step | Description                    |\n",
        "|:---- |:------------------------------ |\n",
        "| 1    | Generate data                  |\n",
        "| 2    | Measure distances              |\n",
        "| 3    | Get k-nearest neighbors        |\n",
        "| 4    | Compute reachability distances |\n",
        "| 5    | Compute LRD (local density)    |\n",
        "| 6    | Compute LOF score              |\n",
        "| 7    | Predict anomalies              |\n",
        "| 8    | Visualize results              |\n",
        "\n",
        "\n"
      ],
      "metadata": {
        "id": "UE0TV1QlKLTu"
      }
    }
  ]
}