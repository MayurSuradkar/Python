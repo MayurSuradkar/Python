{
  "nbformat": 4,
  "nbformat_minor": 0,
  "metadata": {
    "colab": {
      "provenance": [],
      "authorship_tag": "ABX9TyPhodBiO3rKKZS7aaO+IWXE",
      "include_colab_link": true
    },
    "kernelspec": {
      "name": "python3",
      "display_name": "Python 3"
    },
    "language_info": {
      "name": "python"
    }
  },
  "cells": [
    {
      "cell_type": "markdown",
      "metadata": {
        "id": "view-in-github",
        "colab_type": "text"
      },
      "source": [
        "<a href=\"https://colab.research.google.com/github/Tanu-N-Prabhu/Python/blob/master/Machine%20Learning%20Interview%20Prep%20Questions/Unsupervised%20Learning%20Algorithms/Anomaly%20Detection/Isolation%20Forest/isolation_forest_from_scratch.ipynb\" target=\"_parent\"><img src=\"https://colab.research.google.com/assets/colab-badge.svg\" alt=\"Open In Colab\"/></a>"
      ]
    },
    {
      "cell_type": "markdown",
      "source": [
        "## What Is Isolation Forest?\n",
        "**Isolation Forest** is based on the idea that **anomalies** are easier to isolate than normal points. It builds random decision trees (called isolation trees), and:\n",
        "\n",
        "* Anomalies have **shorter path lengths** to isolation\n",
        "* Normal data requires more splits to be isolated\n",
        "\n",
        "\n",
        "## 1. Generate or Load Sample Data\n"
      ],
      "metadata": {
        "id": "qtP8IhmptJuF"
      }
    },
    {
      "cell_type": "code",
      "source": [
        "import random\n",
        "import math\n",
        "\n",
        "def generate_data(n_normal=100, n_anomalies=5):\n",
        "    # Normal data centered at (0, 0)\n",
        "    normal_data = [[random.gauss(0, 1), random.gauss(0, 1)] for _ in range(n_normal)]\n",
        "    # Anomalies far away from the center\n",
        "    anomalies = [[random.uniform(6, 8), random.uniform(6, 8)] for _ in range(n_anomalies)]\n",
        "    return normal_data + anomalies\n",
        "\n",
        "data = generate_data()\n",
        "data"
      ],
      "metadata": {
        "colab": {
          "base_uri": "https://localhost:8080/"
        },
        "id": "KpuiVnldta0n",
        "outputId": "bf658677-2124-4216-96e9-02156034ff19"
      },
      "execution_count": 4,
      "outputs": [
        {
          "output_type": "execute_result",
          "data": {
            "text/plain": [
              "[[0.080691771632297, 0.29850432662008763],\n",
              " [0.9101455502669769, -0.9602858166432511],\n",
              " [-0.5791475171197923, -0.13677859262336092],\n",
              " [-0.09517996171911973, 0.27575797886486053],\n",
              " [-1.5564823783085016, -1.8613331484673319],\n",
              " [0.08945372569862192, 1.0801699575296329],\n",
              " [-0.24653072140917842, 0.7370249379969764],\n",
              " [-0.6280216151791731, -0.2976004045279304],\n",
              " [0.020662664892868433, 1.1251468696737177],\n",
              " [0.3272219038958852, -0.7978578928844358],\n",
              " [0.33775449779964895, 0.9149401861966111],\n",
              " [-0.38563564456838983, -0.9440700325249547],\n",
              " [1.0949950764325418, -0.9633396730237124],\n",
              " [-0.3508232695318873, 0.640161081335892],\n",
              " [-1.083781077367708, 0.417268102993136],\n",
              " [0.8320579154830998, 0.6125424966039748],\n",
              " [0.8578003211660923, -1.3442050012439228],\n",
              " [1.643490523805833, -0.6281383208566036],\n",
              " [-0.30745413830458446, 2.922909269110105],\n",
              " [-0.3652757474377666, -0.3540810361670781],\n",
              " [0.7682789467421207, 0.014813485764960128],\n",
              " [-1.0179529167220702, -0.8031188138538901],\n",
              " [-0.7597268265882922, -0.11367286013472488],\n",
              " [-0.3155520493210931, 0.5297309359618108],\n",
              " [0.42928471951395286, -0.38975145186116233],\n",
              " [1.9763741117880906, -0.6616489988444402],\n",
              " [-0.1350935588830801, 2.141595188232669],\n",
              " [1.189885744025604, 0.475851699646388],\n",
              " [0.35113294401802725, 0.2072800471931749],\n",
              " [-0.2840031904126287, -1.2446360770842189],\n",
              " [1.2833019206112748, 0.895957046112694],\n",
              " [-1.3265553260560985, -1.8214966683896272],\n",
              " [0.8301723020966165, -0.15933839896568344],\n",
              " [0.05560072367940069, -1.1048871748585858],\n",
              " [-0.9875629667406064, 0.1357371727160175],\n",
              " [-0.583980141782517, 0.5379501869947155],\n",
              " [-0.05083185832500545, 1.43508331099492],\n",
              " [-1.4557076263767372, 1.6866235280873498],\n",
              " [0.26083049685940773, 0.27141755027653003],\n",
              " [0.017371608871284184, 1.667151281921042],\n",
              " [0.8006545958540717, -2.0075135688456642],\n",
              " [0.7002076795787705, -0.30880416712192144],\n",
              " [0.4354640302038965, -1.7334497439525896],\n",
              " [-1.3261133146684103, 1.0402977214233815],\n",
              " [-0.24679484479005742, 0.5370249801174232],\n",
              " [-0.43958139411316705, 0.2946410124803839],\n",
              " [0.20728935212985988, 2.531222207175359],\n",
              " [0.3120802189698013, -0.0675923790176603],\n",
              " [0.6531501047383933, 0.38266797026921523],\n",
              " [0.4896625040348016, 0.8736282080481876],\n",
              " [-0.37098550645429323, -0.07237964393787644],\n",
              " [1.218065159342553, 0.21667206860705684],\n",
              " [-0.44784615931006444, -0.20135778086980838],\n",
              " [0.8387829791327949, -1.0597687887301808],\n",
              " [-1.0165679038077604, -1.0650695989758305],\n",
              " [-0.4492897829967996, -1.6725679372648148],\n",
              " [1.0897110193458968, -0.5253716493745834],\n",
              " [0.2007004341628267, -0.2810700543049295],\n",
              " [-0.8184539690099254, 0.5858788717909756],\n",
              " [-1.104859262018345, -0.909933277831774],\n",
              " [-2.1099304482384316, 1.297691834195337],\n",
              " [-1.0174761398902352, -2.4678870688108043],\n",
              " [0.11308634866386108, 1.185571669598169],\n",
              " [-0.683279623355982, -0.6578715084178223],\n",
              " [1.3417444793055806, 0.5054045382196346],\n",
              " [-1.0274819570198443, 0.05143447121582489],\n",
              " [0.8368618022848194, 0.6402102868792502],\n",
              " [0.4469173934703181, -1.065053700628913],\n",
              " [-0.8015495935083643, 0.9821442461950001],\n",
              " [1.184605199925441, -1.5561345613566413],\n",
              " [1.1866600122553697, 0.7096888056199185],\n",
              " [-0.4380029043866117, 0.5642768017123856],\n",
              " [-1.4727088773616808, -1.2735145781774326],\n",
              " [0.397803069062636, 1.1809963908706724],\n",
              " [-0.39224688242448635, -0.39235676919870427],\n",
              " [0.13174777450154262, 0.48569766091526395],\n",
              " [-0.7576111693831584, 0.8819965667677572],\n",
              " [1.064852778098729, -0.6783022505036832],\n",
              " [-0.13054197504440634, 1.2000164103017015],\n",
              " [2.627874572425481, 0.3498572683625379],\n",
              " [-1.2928321189579148, 2.3851147249347657],\n",
              " [0.5749014231878599, 0.2768550835980608],\n",
              " [-1.0216236227143773, 1.5428766786210166],\n",
              " [2.060700839670829, -0.4535967852170537],\n",
              " [0.6581344710278454, -0.41751517550016637],\n",
              " [0.4912106662207493, -0.7500591874282914],\n",
              " [-1.6350325834681865, -2.3387088131933416],\n",
              " [1.90470598414038, 0.4230013113398852],\n",
              " [1.0567508579363099, 0.9986225966697996],\n",
              " [-0.1145600048507484, 0.156993138307356],\n",
              " [-0.14284370293985488, -0.24496964103975122],\n",
              " [-0.41191217916970935, 1.5254691665739548],\n",
              " [-0.24586542878779002, -0.2872937461833809],\n",
              " [1.1081705385217844, 1.666526078072082],\n",
              " [-0.0390185027370513, -0.8950370633984366],\n",
              " [0.4631316846790995, -0.9641185963706218],\n",
              " [-0.18393145950054096, -0.1179469460875848],\n",
              " [0.08705966845535501, -0.47427255485107617],\n",
              " [-1.1981755607134406, -1.1867013068046919],\n",
              " [1.167316765082844, 0.7243733719545558],\n",
              " [6.255513004273592, 7.009787972866994],\n",
              " [7.417901128624225, 6.868446318875419],\n",
              " [6.402371390152383, 7.903745290952503],\n",
              " [6.899880598442089, 6.849263265745613],\n",
              " [7.031753833934362, 7.869276215293866]]"
            ]
          },
          "metadata": {},
          "execution_count": 4
        }
      ]
    },
    {
      "cell_type": "markdown",
      "source": [
        "## 2. Harmonic number approximation for average path length"
      ],
      "metadata": {
        "id": "r1MeHpWetgE2"
      }
    },
    {
      "cell_type": "code",
      "source": [
        "def c(n):\n",
        "    if n <= 1:\n",
        "        return 0\n",
        "    return 2 * (math.log(n - 1) + 0.5772156649) - (2 * (n - 1) / n)"
      ],
      "metadata": {
        "id": "eMcVXzIGuCFD"
      },
      "execution_count": 5,
      "outputs": []
    },
    {
      "cell_type": "markdown",
      "source": [
        "## 3. Build isolation tree recursively"
      ],
      "metadata": {
        "id": "di7kcRGCuIVs"
      }
    },
    {
      "cell_type": "code",
      "source": [
        "def build_tree(data, height_limit, current_height=0):\n",
        "    if current_height >= height_limit or len(data) <= 1:\n",
        "        return {'size': len(data)}  # Leaf node\n",
        "\n",
        "    dim = random.randint(0, len(data[0]) - 1)  # Pick a random feature\n",
        "    values = [row[dim] for row in data]\n",
        "    split_value = random.uniform(min(values), max(values))\n",
        "\n",
        "    left = [row for row in data if row[dim] < split_value]\n",
        "    right = [row for row in data if row[dim] >= split_value]\n",
        "\n",
        "    return {\n",
        "        'split_attr': dim,\n",
        "        'split_value': split_value,\n",
        "        'left': build_tree(left, height_limit, current_height + 1),\n",
        "        'right': build_tree(right, height_limit, current_height + 1)\n",
        "    }"
      ],
      "metadata": {
        "id": "4BuAMc_uuNFY"
      },
      "execution_count": 6,
      "outputs": []
    },
    {
      "cell_type": "markdown",
      "source": [
        "## 4. Calculate path length of a data point in a tree"
      ],
      "metadata": {
        "id": "nGA9gaSNuQfN"
      }
    },
    {
      "cell_type": "code",
      "source": [
        "def path_length(x, node, current_height=0):\n",
        "    if 'size' in node:\n",
        "        return current_height + c(node['size'])  # Reached a leaf\n",
        "\n",
        "    split_attr = node['split_attr']\n",
        "    split_value = node['split_value']\n",
        "\n",
        "    if x[split_attr] < split_value:\n",
        "        return path_length(x, node['left'], current_height + 1)\n",
        "    else:\n",
        "        return path_length(x, node['right'], current_height + 1)"
      ],
      "metadata": {
        "id": "Y9YByeRsuTDa"
      },
      "execution_count": 7,
      "outputs": []
    },
    {
      "cell_type": "markdown",
      "source": [
        "## 5. Build multiple isolation trees (the forest)"
      ],
      "metadata": {
        "id": "v-zpmRatuV-U"
      }
    },
    {
      "cell_type": "code",
      "source": [
        "def fit_forest(data, n_trees=100, sample_size=64):\n",
        "    trees = []\n",
        "    height_limit = math.ceil(math.log2(sample_size))\n",
        "\n",
        "    for _ in range(n_trees):\n",
        "        sample = random.sample(data, sample_size)\n",
        "        tree = build_tree(sample, height_limit)\n",
        "        trees.append(tree)\n",
        "\n",
        "    return trees"
      ],
      "metadata": {
        "id": "RmaPS_iLuZEL"
      },
      "execution_count": 8,
      "outputs": []
    },
    {
      "cell_type": "markdown",
      "source": [
        "## 6. Compute anomaly score for a data point"
      ],
      "metadata": {
        "id": "QiJKiK8zubzE"
      }
    },
    {
      "cell_type": "code",
      "source": [
        "def anomaly_score(x, trees, sample_size):\n",
        "    total_path_length = 0\n",
        "    for tree in trees:\n",
        "        total_path_length += path_length(x, tree)\n",
        "\n",
        "    avg_path_length = total_path_length / len(trees)\n",
        "    score = 2 ** (-avg_path_length / c(sample_size))\n",
        "    return score  # Closer to 1 = anomaly"
      ],
      "metadata": {
        "id": "dF-Qz7UsueQm"
      },
      "execution_count": 9,
      "outputs": []
    },
    {
      "cell_type": "markdown",
      "source": [
        "## 7. Predict anomaly labels for dataset"
      ],
      "metadata": {
        "id": "n9nLRKQtuph3"
      }
    },
    {
      "cell_type": "code",
      "source": [
        "def predict(data, trees, sample_size, threshold=0.6):\n",
        "    predictions = []\n",
        "    scores = []\n",
        "\n",
        "    for x in data:\n",
        "        score = anomaly_score(x, trees, sample_size)\n",
        "        scores.append(score)\n",
        "        predictions.append(1 if score > threshold else 0)  # 1 = anomaly\n",
        "\n",
        "    return predictions, scores"
      ],
      "metadata": {
        "id": "DqRMBIubuqaP"
      },
      "execution_count": 10,
      "outputs": []
    },
    {
      "cell_type": "markdown",
      "source": [
        "## 8. Run it all"
      ],
      "metadata": {
        "id": "iWtcDIeXut-o"
      }
    },
    {
      "cell_type": "code",
      "source": [
        "n_trees = 100\n",
        "sample_size = 64\n",
        "\n",
        "trees = fit_forest(data, n_trees, sample_size)\n",
        "predictions, scores = predict(data, trees, sample_size, threshold=0.6)"
      ],
      "metadata": {
        "id": "B6n8OoUXuuxI"
      },
      "execution_count": 12,
      "outputs": []
    },
    {
      "cell_type": "markdown",
      "source": [
        "## 9.Display results"
      ],
      "metadata": {
        "id": "vrYgbShrvSAi"
      }
    },
    {
      "cell_type": "code",
      "source": [
        "for i, (point, score, label) in enumerate(zip(data, scores, predictions)):\n",
        "    status = \"Anomaly 🚨\" if label == 1 else \"Normal ✅\"\n",
        "    print(f\"Point {i}: {point} | Score: {score:.4f} | {status}\")"
      ],
      "metadata": {
        "colab": {
          "base_uri": "https://localhost:8080/"
        },
        "id": "LQhwHVKovVXG",
        "outputId": "65913a20-c9fb-4a60-e7b3-28b61622499e"
      },
      "execution_count": 13,
      "outputs": [
        {
          "output_type": "stream",
          "name": "stdout",
          "text": [
            "Point 0: [0.080691771632297, 0.29850432662008763] | Score: 0.3914 | Normal ✅\n",
            "Point 1: [0.9101455502669769, -0.9602858166432511] | Score: 0.4332 | Normal ✅\n",
            "Point 2: [-0.5791475171197923, -0.13677859262336092] | Score: 0.4130 | Normal ✅\n",
            "Point 3: [-0.09517996171911973, 0.27575797886486053] | Score: 0.3929 | Normal ✅\n",
            "Point 4: [-1.5564823783085016, -1.8613331484673319] | Score: 0.5615 | Normal ✅\n",
            "Point 5: [0.08945372569862192, 1.0801699575296329] | Score: 0.4257 | Normal ✅\n",
            "Point 6: [-0.24653072140917842, 0.7370249379969764] | Score: 0.4081 | Normal ✅\n",
            "Point 7: [-0.6280216151791731, -0.2976004045279304] | Score: 0.4134 | Normal ✅\n",
            "Point 8: [0.020662664892868433, 1.1251468696737177] | Score: 0.4335 | Normal ✅\n",
            "Point 9: [0.3272219038958852, -0.7978578928844358] | Score: 0.4127 | Normal ✅\n",
            "Point 10: [0.33775449779964895, 0.9149401861966111] | Score: 0.4231 | Normal ✅\n",
            "Point 11: [-0.38563564456838983, -0.9440700325249547] | Score: 0.4190 | Normal ✅\n",
            "Point 12: [1.0949950764325418, -0.9633396730237124] | Score: 0.4461 | Normal ✅\n",
            "Point 13: [-0.3508232695318873, 0.640161081335892] | Score: 0.4052 | Normal ✅\n",
            "Point 14: [-1.083781077367708, 0.417268102993136] | Score: 0.4541 | Normal ✅\n",
            "Point 15: [0.8320579154830998, 0.6125424966039748] | Score: 0.4239 | Normal ✅\n",
            "Point 16: [0.8578003211660923, -1.3442050012439228] | Score: 0.4509 | Normal ✅\n",
            "Point 17: [1.643490523805833, -0.6281383208566036] | Score: 0.5145 | Normal ✅\n",
            "Point 18: [-0.30745413830458446, 2.922909269110105] | Score: 0.5769 | Normal ✅\n",
            "Point 19: [-0.3652757474377666, -0.3540810361670781] | Score: 0.3978 | Normal ✅\n",
            "Point 20: [0.7682789467421207, 0.014813485764960128] | Score: 0.4158 | Normal ✅\n",
            "Point 21: [-1.0179529167220702, -0.8031188138538901] | Score: 0.4478 | Normal ✅\n",
            "Point 22: [-0.7597268265882922, -0.11367286013472488] | Score: 0.4169 | Normal ✅\n",
            "Point 23: [-0.3155520493210931, 0.5297309359618108] | Score: 0.4028 | Normal ✅\n",
            "Point 24: [0.42928471951395286, -0.38975145186116233] | Score: 0.4026 | Normal ✅\n",
            "Point 25: [1.9763741117880906, -0.6616489988444402] | Score: 0.5405 | Normal ✅\n",
            "Point 26: [-0.1350935588830801, 2.141595188232669] | Score: 0.5279 | Normal ✅\n",
            "Point 27: [1.189885744025604, 0.475851699646388] | Score: 0.4306 | Normal ✅\n",
            "Point 28: [0.35113294401802725, 0.2072800471931749] | Score: 0.3944 | Normal ✅\n",
            "Point 29: [-0.2840031904126287, -1.2446360770842189] | Score: 0.4397 | Normal ✅\n",
            "Point 30: [1.2833019206112748, 0.895957046112694] | Score: 0.4659 | Normal ✅\n",
            "Point 31: [-1.3265553260560985, -1.8214966683896272] | Score: 0.5289 | Normal ✅\n",
            "Point 32: [0.8301723020966165, -0.15933839896568344] | Score: 0.4111 | Normal ✅\n",
            "Point 33: [0.05560072367940069, -1.1048871748585858] | Score: 0.4345 | Normal ✅\n",
            "Point 34: [-0.9875629667406064, 0.1357371727160175] | Score: 0.4278 | Normal ✅\n",
            "Point 35: [-0.583980141782517, 0.5379501869947155] | Score: 0.4183 | Normal ✅\n",
            "Point 36: [-0.05083185832500545, 1.43508331099492] | Score: 0.4635 | Normal ✅\n",
            "Point 37: [-1.4557076263767372, 1.6866235280873498] | Score: 0.5611 | Normal ✅\n",
            "Point 38: [0.26083049685940773, 0.27141755027653003] | Score: 0.3918 | Normal ✅\n",
            "Point 39: [0.017371608871284184, 1.667151281921042] | Score: 0.4891 | Normal ✅\n",
            "Point 40: [0.8006545958540717, -2.0075135688456642] | Score: 0.5315 | Normal ✅\n",
            "Point 41: [0.7002076795787705, -0.30880416712192144] | Score: 0.4140 | Normal ✅\n",
            "Point 42: [0.4354640302038965, -1.7334497439525896] | Score: 0.4939 | Normal ✅\n",
            "Point 43: [-1.3261133146684103, 1.0402977214233815] | Score: 0.4936 | Normal ✅\n",
            "Point 44: [-0.24679484479005742, 0.5370249801174232] | Score: 0.4003 | Normal ✅\n",
            "Point 45: [-0.43958139411316705, 0.2946410124803839] | Score: 0.4006 | Normal ✅\n",
            "Point 46: [0.20728935212985988, 2.531222207175359] | Score: 0.5582 | Normal ✅\n",
            "Point 47: [0.3120802189698013, -0.0675923790176603] | Score: 0.3912 | Normal ✅\n",
            "Point 48: [0.6531501047383933, 0.38266797026921523] | Score: 0.4199 | Normal ✅\n",
            "Point 49: [0.4896625040348016, 0.8736282080481876] | Score: 0.4320 | Normal ✅\n",
            "Point 50: [-0.37098550645429323, -0.07237964393787644] | Score: 0.3971 | Normal ✅\n",
            "Point 51: [1.218065159342553, 0.21667206860705684] | Score: 0.4318 | Normal ✅\n",
            "Point 52: [-0.44784615931006444, -0.20135778086980838] | Score: 0.3980 | Normal ✅\n",
            "Point 53: [0.8387829791327949, -1.0597687887301808] | Score: 0.4289 | Normal ✅\n",
            "Point 54: [-1.0165679038077604, -1.0650695989758305] | Score: 0.4594 | Normal ✅\n",
            "Point 55: [-0.4492897829967996, -1.6725679372648148] | Score: 0.4813 | Normal ✅\n",
            "Point 56: [1.0897110193458968, -0.5253716493745834] | Score: 0.4384 | Normal ✅\n",
            "Point 57: [0.2007004341628267, -0.2810700543049295] | Score: 0.4005 | Normal ✅\n",
            "Point 58: [-0.8184539690099254, 0.5858788717909756] | Score: 0.4360 | Normal ✅\n",
            "Point 59: [-1.104859262018345, -0.909933277831774] | Score: 0.4570 | Normal ✅\n",
            "Point 60: [-2.1099304482384316, 1.297691834195337] | Score: 0.6016 | Anomaly 🚨\n",
            "Point 61: [-1.0174761398902352, -2.4678870688108043] | Score: 0.5914 | Normal ✅\n",
            "Point 62: [0.11308634866386108, 1.185571669598169] | Score: 0.4330 | Normal ✅\n",
            "Point 63: [-0.683279623355982, -0.6578715084178223] | Score: 0.4271 | Normal ✅\n",
            "Point 64: [1.3417444793055806, 0.5054045382196346] | Score: 0.4490 | Normal ✅\n",
            "Point 65: [-1.0274819570198443, 0.05143447121582489] | Score: 0.4373 | Normal ✅\n",
            "Point 66: [0.8368618022848194, 0.6402102868792502] | Score: 0.4248 | Normal ✅\n",
            "Point 67: [0.4469173934703181, -1.065053700628913] | Score: 0.4259 | Normal ✅\n",
            "Point 68: [-0.8015495935083643, 0.9821442461950001] | Score: 0.4476 | Normal ✅\n",
            "Point 69: [1.184605199925441, -1.5561345613566413] | Score: 0.5072 | Normal ✅\n",
            "Point 70: [1.1866600122553697, 0.7096888056199185] | Score: 0.4373 | Normal ✅\n",
            "Point 71: [-0.4380029043866117, 0.5642768017123856] | Score: 0.4042 | Normal ✅\n",
            "Point 72: [-1.4727088773616808, -1.2735145781774326] | Score: 0.5199 | Normal ✅\n",
            "Point 73: [0.397803069062636, 1.1809963908706724] | Score: 0.4439 | Normal ✅\n",
            "Point 74: [-0.39224688242448635, -0.39235676919870427] | Score: 0.4024 | Normal ✅\n",
            "Point 75: [0.13174777450154262, 0.48569766091526395] | Score: 0.3952 | Normal ✅\n",
            "Point 76: [-0.7576111693831584, 0.8819965667677572] | Score: 0.4433 | Normal ✅\n",
            "Point 77: [1.064852778098729, -0.6783022505036832] | Score: 0.4424 | Normal ✅\n",
            "Point 78: [-0.13054197504440634, 1.2000164103017015] | Score: 0.4364 | Normal ✅\n",
            "Point 79: [2.627874572425481, 0.3498572683625379] | Score: 0.5915 | Normal ✅\n",
            "Point 80: [-1.2928321189579148, 2.3851147249347657] | Score: 0.5868 | Normal ✅\n",
            "Point 81: [0.5749014231878599, 0.2768550835980608] | Score: 0.4032 | Normal ✅\n",
            "Point 82: [-1.0216236227143773, 1.5428766786210166] | Score: 0.5088 | Normal ✅\n",
            "Point 83: [2.060700839670829, -0.4535967852170537] | Score: 0.5589 | Normal ✅\n",
            "Point 84: [0.6581344710278454, -0.41751517550016637] | Score: 0.4147 | Normal ✅\n",
            "Point 85: [0.4912106662207493, -0.7500591874282914] | Score: 0.4147 | Normal ✅\n",
            "Point 86: [-1.6350325834681865, -2.3387088131933416] | Score: 0.6258 | Anomaly 🚨\n",
            "Point 87: [1.90470598414038, 0.4230013113398852] | Score: 0.5100 | Normal ✅\n",
            "Point 88: [1.0567508579363099, 0.9986225966697996] | Score: 0.4624 | Normal ✅\n",
            "Point 89: [-0.1145600048507484, 0.156993138307356] | Score: 0.3930 | Normal ✅\n",
            "Point 90: [-0.14284370293985488, -0.24496964103975122] | Score: 0.3988 | Normal ✅\n",
            "Point 91: [-0.41191217916970935, 1.5254691665739548] | Score: 0.4824 | Normal ✅\n",
            "Point 92: [-0.24586542878779002, -0.2872937461833809] | Score: 0.4002 | Normal ✅\n",
            "Point 93: [1.1081705385217844, 1.666526078072082] | Score: 0.5340 | Normal ✅\n",
            "Point 94: [-0.0390185027370513, -0.8950370633984366] | Score: 0.4245 | Normal ✅\n",
            "Point 95: [0.4631316846790995, -0.9641185963706218] | Score: 0.4209 | Normal ✅\n",
            "Point 96: [-0.18393145950054096, -0.1179469460875848] | Score: 0.3958 | Normal ✅\n",
            "Point 97: [0.08705966845535501, -0.47427255485107617] | Score: 0.4103 | Normal ✅\n",
            "Point 98: [-1.1981755607134406, -1.1867013068046919] | Score: 0.4791 | Normal ✅\n",
            "Point 99: [1.167316765082844, 0.7243733719545558] | Score: 0.4372 | Normal ✅\n",
            "Point 100: [6.255513004273592, 7.009787972866994] | Score: 0.7438 | Anomaly 🚨\n",
            "Point 101: [7.417901128624225, 6.868446318875419] | Score: 0.7585 | Anomaly 🚨\n",
            "Point 102: [6.402371390152383, 7.903745290952503] | Score: 0.7592 | Anomaly 🚨\n",
            "Point 103: [6.899880598442089, 6.849263265745613] | Score: 0.7377 | Anomaly 🚨\n",
            "Point 104: [7.031753833934362, 7.869276215293866] | Score: 0.7599 | Anomaly 🚨\n"
          ]
        }
      ]
    },
    {
      "cell_type": "markdown",
      "source": [
        "## Summary\n",
        "\n",
        "| Step | What it does                                        |\n",
        "|:---- |:--------------------------------------------------- |\n",
        "| 1    | Generates synthetic normal and anomalous data       |\n",
        "| 2    | Calculates expected path length to normalize scores |\n",
        "| 3-4  | Recursively builds an isolation tree                |\n",
        "| 5    | Builds multiple trees to form the forest            |\n",
        "| 6-7  | Computes anomaly score for each point               |\n",
        "| 8-9  | Labels data as anomaly or normal based on threshold |\n",
        "\n",
        "\n"
      ],
      "metadata": {
        "id": "Yl1EsCWKuy7S"
      }
    }
  ]
}