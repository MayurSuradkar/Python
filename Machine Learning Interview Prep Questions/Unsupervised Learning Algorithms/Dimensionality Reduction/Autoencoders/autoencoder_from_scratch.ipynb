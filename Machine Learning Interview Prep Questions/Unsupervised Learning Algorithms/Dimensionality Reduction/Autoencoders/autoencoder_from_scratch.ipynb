{
  "nbformat": 4,
  "nbformat_minor": 0,
  "metadata": {
    "colab": {
      "provenance": [],
      "authorship_tag": "ABX9TyPKBywENSaK4KWXtvAsoq/Q",
      "include_colab_link": true
    },
    "kernelspec": {
      "name": "python3",
      "display_name": "Python 3"
    },
    "language_info": {
      "name": "python"
    }
  },
  "cells": [
    {
      "cell_type": "markdown",
      "metadata": {
        "id": "view-in-github",
        "colab_type": "text"
      },
      "source": [
        "<a href=\"https://colab.research.google.com/github/Tanu-N-Prabhu/Python/blob/master/Machine%20Learning%20Interview%20Prep%20Questions/Unsupervised%20Learning%20Algorithms/Dimensionality%20Reduction/Autoencoders/autoencoder_from_scratch.ipynb\" target=\"_parent\"><img src=\"https://colab.research.google.com/assets/colab-badge.svg\" alt=\"Open In Colab\"/></a>"
      ]
    },
    {
      "cell_type": "markdown",
      "source": [
        "# Autoencoders from Scratch (No Deep Learning Libraries)\n",
        "\n",
        "This notebook demonstrates a **basic autoencoder** implemented from scratch using only **NumPy**. Autoencoders are powerful neural networks used for **unsupervised learning**, especially in **dimensionality reduction**, **feature learning**, and **anomaly detection**.\n",
        "\n",
        "\n",
        "## What is an Autoencoder?\n",
        "\n",
        "An **autoencoder** is a special kind of feedforward neural network trained to copy its input to its output.\n",
        "\n",
        "It consists of two parts:\n",
        "- **Encoder**: Compresses the input into a smaller (latent) representation.\n",
        "- **Decoder**: Reconstructs the input from the compressed version.\n",
        "\n",
        "Autoencoders learn meaningful representations by minimizing the reconstruction error.\n",
        "\n",
        "## Structure\n",
        "\n",
        "```\n",
        "Input → Encoder → Bottleneck (latent) → Decoder → Output\n",
        "```\n",
        "\n",
        "## Generate Sample Data"
      ],
      "metadata": {
        "id": "GisLTc-rjprr"
      }
    },
    {
      "cell_type": "code",
      "source": [
        "import numpy as np\n",
        "import matplotlib.pyplot as plt\n",
        "from sklearn.datasets import load_digits\n",
        "from sklearn.preprocessing import MinMaxScaler\n",
        "\n",
        "# Load and scale the data\n",
        "digits = load_digits()\n",
        "X = digits.data\n",
        "X = MinMaxScaler().fit_transform(X)\n",
        "print(X)\n",
        "print(\"Data shape:\", X.shape)  # (1797, 64)"
      ],
      "metadata": {
        "colab": {
          "base_uri": "https://localhost:8080/"
        },
        "id": "2Ixxv5wnj6xb",
        "outputId": "e52cc68e-c7aa-4487-8a59-b6be370f500b"
      },
      "execution_count": 5,
      "outputs": [
        {
          "output_type": "stream",
          "name": "stdout",
          "text": [
            "[[0.     0.     0.3125 ... 0.     0.     0.    ]\n",
            " [0.     0.     0.     ... 0.625  0.     0.    ]\n",
            " [0.     0.     0.     ... 1.     0.5625 0.    ]\n",
            " ...\n",
            " [0.     0.     0.0625 ... 0.375  0.     0.    ]\n",
            " [0.     0.     0.125  ... 0.75   0.     0.    ]\n",
            " [0.     0.     0.625  ... 0.75   0.0625 0.    ]]\n",
            "Data shape: (1797, 64)\n"
          ]
        }
      ]
    },
    {
      "cell_type": "markdown",
      "source": [
        "## Build Autoencoder Model with NumPy\n",
        "\n",
        "```\n",
        "1 hidden layer encoder → bottleneck → 1 hidden layer decoder\n",
        "```"
      ],
      "metadata": {
        "id": "1pIedtmckBgs"
      }
    },
    {
      "cell_type": "code",
      "source": [
        "# Architecture\n",
        "n_input = X.shape[1]      # 64\n",
        "n_hidden = 32             # Encoder layer\n",
        "n_code = 16               # Bottleneck\n",
        "n_hidden2 = 32            # Decoder layer\n",
        "n_output = n_input        # Reconstruct input\n",
        "\n",
        "# Initialize weights and biases\n",
        "def init_weights(shape):\n",
        "    return np.random.randn(*shape) * 0.1\n",
        "\n",
        "W1 = init_weights((n_input, n_hidden))\n",
        "b1 = np.zeros(n_hidden)\n",
        "\n",
        "W2 = init_weights((n_hidden, n_code))\n",
        "b2 = np.zeros(n_code)\n",
        "\n",
        "W3 = init_weights((n_code, n_hidden2))\n",
        "b3 = np.zeros(n_hidden2)\n",
        "\n",
        "W4 = init_weights((n_hidden2, n_output))\n",
        "b4 = np.zeros(n_output)\n",
        "\n",
        "# Activation functions\n",
        "def sigmoid(x):\n",
        "    return 1 / (1 + np.exp(-x))\n",
        "\n",
        "def sigmoid_derivative(x):\n",
        "    s = sigmoid(x)\n",
        "    return s * (1 - s)"
      ],
      "metadata": {
        "id": "Xl_7Tst5kIJ9"
      },
      "execution_count": 2,
      "outputs": []
    },
    {
      "cell_type": "markdown",
      "source": [
        "## Train the Autoencoder"
      ],
      "metadata": {
        "id": "nn_fQlHwkV7Q"
      }
    },
    {
      "cell_type": "code",
      "source": [
        "# Training settings\n",
        "epochs = 100\n",
        "lr = 0.1\n",
        "\n",
        "losses = []\n",
        "\n",
        "for epoch in range(epochs):\n",
        "    total_loss = 0\n",
        "    for x in X:\n",
        "        ## FORWARD PASS\n",
        "        x = x.reshape(1, -1)\n",
        "\n",
        "        z1 = x @ W1 + b1\n",
        "        a1 = sigmoid(z1)\n",
        "\n",
        "        z2 = a1 @ W2 + b2\n",
        "        code = sigmoid(z2)  # Bottleneck\n",
        "\n",
        "        z3 = code @ W3 + b3\n",
        "        a3 = sigmoid(z3)\n",
        "\n",
        "        z4 = a3 @ W4 + b4\n",
        "        output = sigmoid(z4)\n",
        "\n",
        "        ## LOSS (Mean Squared Error)\n",
        "        error = output - x\n",
        "        loss = np.mean(error ** 2)\n",
        "        total_loss += loss\n",
        "\n",
        "        ## BACKPROP\n",
        "        d4 = error * sigmoid_derivative(z4)\n",
        "        d3 = d4 @ W4.T * sigmoid_derivative(z3)\n",
        "        d2 = d3 @ W3.T * sigmoid_derivative(z2)\n",
        "        d1 = d2 @ W2.T * sigmoid_derivative(z1)\n",
        "\n",
        "        # Update weights and biases\n",
        "        W4 -= lr * a3.T @ d4\n",
        "        b4 -= lr * d4.flatten()\n",
        "\n",
        "        W3 -= lr * code.T @ d3\n",
        "        b3 -= lr * d3.flatten()\n",
        "\n",
        "        W2 -= lr * a1.T @ d2\n",
        "        b2 -= lr * d2.flatten()\n",
        "\n",
        "        W1 -= lr * x.T @ d1\n",
        "        b1 -= lr * d1.flatten()\n",
        "\n",
        "    losses.append(total_loss / len(X))\n",
        "    if epoch % 10 == 0:\n",
        "        print(f\"Epoch {epoch}, Loss: {total_loss / len(X):.4f}\")"
      ],
      "metadata": {
        "colab": {
          "base_uri": "https://localhost:8080/"
        },
        "id": "LT9_wUF1kWkZ",
        "outputId": "0b91950e-73d0-4692-fa73-60f55bb61537"
      },
      "execution_count": 3,
      "outputs": [
        {
          "output_type": "stream",
          "name": "stdout",
          "text": [
            "Epoch 0, Loss: 0.0756\n",
            "Epoch 10, Loss: 0.0495\n",
            "Epoch 20, Loss: 0.0287\n",
            "Epoch 30, Loss: 0.0221\n",
            "Epoch 40, Loss: 0.0170\n",
            "Epoch 50, Loss: 0.0142\n",
            "Epoch 60, Loss: 0.0120\n",
            "Epoch 70, Loss: 0.0111\n",
            "Epoch 80, Loss: 0.0102\n",
            "Epoch 90, Loss: 0.0094\n"
          ]
        }
      ]
    },
    {
      "cell_type": "markdown",
      "source": [
        "## Visualize the Reconstructions\n"
      ],
      "metadata": {
        "id": "LAVnTNWpkbsB"
      }
    },
    {
      "cell_type": "code",
      "source": [
        "# Plot original vs reconstructed digits\n",
        "n = 10\n",
        "plt.figure(figsize=(10, 3))\n",
        "for i in range(n):\n",
        "    ax = plt.subplot(2, n, i + 1)\n",
        "    plt.imshow(X[i].reshape(8, 8), cmap=\"gray\")\n",
        "    plt.axis(\"off\")\n",
        "\n",
        "    # Forward pass\n",
        "    x = X[i].reshape(1, -1)\n",
        "    a1 = sigmoid(x @ W1 + b1)\n",
        "    code = sigmoid(a1 @ W2 + b2)\n",
        "    a3 = sigmoid(code @ W3 + b3)\n",
        "    output = sigmoid(a3 @ W4 + b4)\n",
        "\n",
        "    ax = plt.subplot(2, n, i + 1 + n)\n",
        "    plt.imshow(output.reshape(8, 8), cmap=\"gray\")\n",
        "    plt.axis(\"off\")\n"
      ],
      "metadata": {
        "colab": {
          "base_uri": "https://localhost:8080/",
          "height": 228
        },
        "id": "JR_ry1GCkkmX",
        "outputId": "cad71dc7-1f29-485a-b5d8-946e7de2bfb5"
      },
      "execution_count": 4,
      "outputs": [
        {
          "output_type": "display_data",
          "data": {
            "text/plain": [
              "<Figure size 1000x300 with 20 Axes>"
            ],
            "image/png": "[encoded data removed]"
          },
          "metadata": {}
        }
      ]
    },
    {
      "cell_type": "markdown",
      "source": [
        "## Summary\n",
        "\n",
        "- Autoencoders learn compressed representations of data\n",
        "- They reconstruct input with minimal loss\n",
        "- We implemented:\n",
        "  - Forward propagation (encoder → decoder)\n",
        "  - Loss function: MSE\n",
        "  - Backpropagation using NumPy\n",
        "- Visualized digit reconstruction from raw input\n"
      ],
      "metadata": {
        "id": "dPRCWKoVknvG"
      }
    }
  ]
}